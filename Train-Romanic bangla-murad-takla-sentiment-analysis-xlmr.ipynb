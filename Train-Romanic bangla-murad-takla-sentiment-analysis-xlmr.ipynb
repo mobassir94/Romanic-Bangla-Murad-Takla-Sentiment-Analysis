{
 "cells": [
  {
   "cell_type": "markdown",
   "metadata": {
    "papermill": {
     "duration": 0.045976,
     "end_time": "2021-02-10T13:27:44.976914",
     "exception": false,
     "start_time": "2021-02-10T13:27:44.930938",
     "status": "completed"
    },
    "tags": []
   },
   "source": [
    "# Installing required packages"
   ]
  },
  {
   "cell_type": "code",
   "execution_count": 1,
   "metadata": {
    "_kg_hide-output": true,
    "execution": {
     "iopub.execute_input": "2021-02-10T13:27:45.080511Z",
     "iopub.status.busy": "2021-02-10T13:27:45.070163Z",
     "iopub.status.idle": "2021-02-10T13:27:53.623625Z",
     "shell.execute_reply": "2021-02-10T13:27:53.622597Z"
    },
    "papermill": {
     "duration": 8.601741,
     "end_time": "2021-02-10T13:27:53.623856",
     "exception": false,
     "start_time": "2021-02-10T13:27:45.022115",
     "status": "completed"
    },
    "tags": []
   },
   "outputs": [
    {
     "name": "stdout",
     "output_type": "stream",
     "text": [
      "Requirement already satisfied: cloud-tpu-client in /opt/conda/lib/python3.7/site-packages (0.10)\r\n",
      "Requirement already satisfied: google-api-python-client==1.8.0 in /opt/conda/lib/python3.7/site-packages (from cloud-tpu-client) (1.8.0)\r\n",
      "Requirement already satisfied: oauth2client in /opt/conda/lib/python3.7/site-packages (from cloud-tpu-client) (4.1.3)\r\n",
      "Requirement already satisfied: google-auth-httplib2>=0.0.3 in /opt/conda/lib/python3.7/site-packages (from google-api-python-client==1.8.0->cloud-tpu-client) (0.0.4)\r\n",
      "Requirement already satisfied: six<2dev,>=1.6.1 in /opt/conda/lib/python3.7/site-packages (from google-api-python-client==1.8.0->cloud-tpu-client) (1.15.0)\r\n",
      "Requirement already satisfied: uritemplate<4dev,>=3.0.0 in /opt/conda/lib/python3.7/site-packages (from google-api-python-client==1.8.0->cloud-tpu-client) (3.0.1)\r\n",
      "Requirement already satisfied: google-api-core<2dev,>=1.13.0 in /opt/conda/lib/python3.7/site-packages (from google-api-python-client==1.8.0->cloud-tpu-client) (1.22.4)\r\n",
      "Requirement already satisfied: httplib2<1dev,>=0.9.2 in /opt/conda/lib/python3.7/site-packages (from google-api-python-client==1.8.0->cloud-tpu-client) (0.18.1)\r\n",
      "Requirement already satisfied: google-auth>=1.4.1 in /opt/conda/lib/python3.7/site-packages (from google-api-python-client==1.8.0->cloud-tpu-client) (1.24.0)\r\n",
      "Requirement already satisfied: pytz in /opt/conda/lib/python3.7/site-packages (from google-api-core<2dev,>=1.13.0->google-api-python-client==1.8.0->cloud-tpu-client) (2019.3)\r\n",
      "Requirement already satisfied: googleapis-common-protos<2.0dev,>=1.6.0 in /opt/conda/lib/python3.7/site-packages (from google-api-core<2dev,>=1.13.0->google-api-python-client==1.8.0->cloud-tpu-client) (1.52.0)\r\n",
      "Requirement already satisfied: requests<3.0.0dev,>=2.18.0 in /opt/conda/lib/python3.7/site-packages (from google-api-core<2dev,>=1.13.0->google-api-python-client==1.8.0->cloud-tpu-client) (2.25.1)\r\n",
      "Requirement already satisfied: setuptools>=34.0.0 in /opt/conda/lib/python3.7/site-packages (from google-api-core<2dev,>=1.13.0->google-api-python-client==1.8.0->cloud-tpu-client) (49.6.0.post20201009)\r\n",
      "Requirement already satisfied: protobuf>=3.12.0 in /opt/conda/lib/python3.7/site-packages (from google-api-core<2dev,>=1.13.0->google-api-python-client==1.8.0->cloud-tpu-client) (3.14.0)\r\n",
      "Requirement already satisfied: rsa<5,>=3.1.4 in /opt/conda/lib/python3.7/site-packages (from google-auth>=1.4.1->google-api-python-client==1.8.0->cloud-tpu-client) (4.6)\r\n",
      "Requirement already satisfied: cachetools<5.0,>=2.0.0 in /opt/conda/lib/python3.7/site-packages (from google-auth>=1.4.1->google-api-python-client==1.8.0->cloud-tpu-client) (4.1.1)\r\n",
      "Requirement already satisfied: pyasn1-modules>=0.2.1 in /opt/conda/lib/python3.7/site-packages (from google-auth>=1.4.1->google-api-python-client==1.8.0->cloud-tpu-client) (0.2.7)\r\n",
      "Requirement already satisfied: pyasn1<0.5.0,>=0.4.6 in /opt/conda/lib/python3.7/site-packages (from pyasn1-modules>=0.2.1->google-auth>=1.4.1->google-api-python-client==1.8.0->cloud-tpu-client) (0.4.8)\r\n",
      "Requirement already satisfied: urllib3<1.27,>=1.21.1 in /opt/conda/lib/python3.7/site-packages (from requests<3.0.0dev,>=2.18.0->google-api-core<2dev,>=1.13.0->google-api-python-client==1.8.0->cloud-tpu-client) (1.26.2)\r\n",
      "Requirement already satisfied: idna<3,>=2.5 in /opt/conda/lib/python3.7/site-packages (from requests<3.0.0dev,>=2.18.0->google-api-core<2dev,>=1.13.0->google-api-python-client==1.8.0->cloud-tpu-client) (2.10)\r\n",
      "Requirement already satisfied: certifi>=2017.4.17 in /opt/conda/lib/python3.7/site-packages (from requests<3.0.0dev,>=2.18.0->google-api-core<2dev,>=1.13.0->google-api-python-client==1.8.0->cloud-tpu-client) (2020.12.5)\r\n",
      "Requirement already satisfied: chardet<5,>=3.0.2 in /opt/conda/lib/python3.7/site-packages (from requests<3.0.0dev,>=2.18.0->google-api-core<2dev,>=1.13.0->google-api-python-client==1.8.0->cloud-tpu-client) (3.0.4)\r\n",
      "\u001b[33mWARNING: You are using pip version 21.0; however, version 21.0.1 is available.\r\n",
      "You should consider upgrading via the '/opt/conda/bin/python3.7 -m pip install --upgrade pip' command.\u001b[0m\r\n"
     ]
    }
   ],
   "source": [
    "!pip install cloud-tpu-client"
   ]
  },
  {
   "cell_type": "code",
   "execution_count": 2,
   "metadata": {
    "_kg_hide-output": true,
    "execution": {
     "iopub.execute_input": "2021-02-10T13:27:53.720209Z",
     "iopub.status.busy": "2021-02-10T13:27:53.719383Z",
     "iopub.status.idle": "2021-02-10T13:28:58.745283Z",
     "shell.execute_reply": "2021-02-10T13:28:58.744560Z"
    },
    "papermill": {
     "duration": 65.077623,
     "end_time": "2021-02-10T13:28:58.745464",
     "exception": false,
     "start_time": "2021-02-10T13:27:53.667841",
     "status": "completed"
    },
    "tags": []
   },
   "outputs": [
    {
     "name": "stdout",
     "output_type": "stream",
     "text": [
      "Collecting tensorflow==2.2.0\r\n",
      "  Downloading tensorflow-2.2.0-cp37-cp37m-manylinux2010_x86_64.whl (516.2 MB)\r\n",
      "\u001b[K     |████████████████████████████████| 516.2 MB 3.3 kB/s \r\n",
      "\u001b[?25hRequirement already satisfied: absl-py>=0.7.0 in /opt/conda/lib/python3.7/site-packages (from tensorflow==2.2.0) (0.10.0)\r\n",
      "Requirement already satisfied: wheel>=0.26 in /opt/conda/lib/python3.7/site-packages (from tensorflow==2.2.0) (0.36.2)\r\n",
      "Collecting tensorflow-estimator<2.3.0,>=2.2.0\r\n",
      "  Downloading tensorflow_estimator-2.2.0-py2.py3-none-any.whl (454 kB)\r\n",
      "\u001b[K     |████████████████████████████████| 454 kB 30.7 MB/s \r\n",
      "\u001b[?25hCollecting tensorboard<2.3.0,>=2.2.0\r\n",
      "  Downloading tensorboard-2.2.2-py3-none-any.whl (3.0 MB)\r\n",
      "\u001b[K     |████████████████████████████████| 3.0 MB 48.0 MB/s \r\n",
      "\u001b[?25hRequirement already satisfied: h5py<2.11.0,>=2.10.0 in /opt/conda/lib/python3.7/site-packages (from tensorflow==2.2.0) (2.10.0)\r\n",
      "Requirement already satisfied: scipy==1.4.1 in /opt/conda/lib/python3.7/site-packages (from tensorflow==2.2.0) (1.4.1)\r\n",
      "Requirement already satisfied: six>=1.12.0 in /opt/conda/lib/python3.7/site-packages (from tensorflow==2.2.0) (1.15.0)\r\n",
      "Requirement already satisfied: google-pasta>=0.1.8 in /opt/conda/lib/python3.7/site-packages (from tensorflow==2.2.0) (0.2.0)\r\n",
      "Requirement already satisfied: opt-einsum>=2.3.2 in /opt/conda/lib/python3.7/site-packages (from tensorflow==2.2.0) (3.3.0)\r\n",
      "Requirement already satisfied: grpcio>=1.8.6 in /opt/conda/lib/python3.7/site-packages (from tensorflow==2.2.0) (1.32.0)\r\n",
      "Requirement already satisfied: termcolor>=1.1.0 in /opt/conda/lib/python3.7/site-packages (from tensorflow==2.2.0) (1.1.0)\r\n",
      "Requirement already satisfied: keras-preprocessing>=1.1.0 in /opt/conda/lib/python3.7/site-packages (from tensorflow==2.2.0) (1.1.2)\r\n",
      "Requirement already satisfied: gast==0.3.3 in /opt/conda/lib/python3.7/site-packages (from tensorflow==2.2.0) (0.3.3)\r\n",
      "Requirement already satisfied: astunparse==1.6.3 in /opt/conda/lib/python3.7/site-packages (from tensorflow==2.2.0) (1.6.3)\r\n",
      "Requirement already satisfied: wrapt>=1.11.1 in /opt/conda/lib/python3.7/site-packages (from tensorflow==2.2.0) (1.12.1)\r\n",
      "Requirement already satisfied: numpy<2.0,>=1.16.0 in /opt/conda/lib/python3.7/site-packages (from tensorflow==2.2.0) (1.19.5)\r\n",
      "Requirement already satisfied: protobuf>=3.8.0 in /opt/conda/lib/python3.7/site-packages (from tensorflow==2.2.0) (3.14.0)\r\n",
      "Requirement already satisfied: requests<3,>=2.21.0 in /opt/conda/lib/python3.7/site-packages (from tensorboard<2.3.0,>=2.2.0->tensorflow==2.2.0) (2.25.1)\r\n",
      "Requirement already satisfied: setuptools>=41.0.0 in /opt/conda/lib/python3.7/site-packages (from tensorboard<2.3.0,>=2.2.0->tensorflow==2.2.0) (49.6.0.post20201009)\r\n",
      "Requirement already satisfied: werkzeug>=0.11.15 in /opt/conda/lib/python3.7/site-packages (from tensorboard<2.3.0,>=2.2.0->tensorflow==2.2.0) (1.0.1)\r\n",
      "Requirement already satisfied: markdown>=2.6.8 in /opt/conda/lib/python3.7/site-packages (from tensorboard<2.3.0,>=2.2.0->tensorflow==2.2.0) (3.3.3)\r\n",
      "Requirement already satisfied: google-auth-oauthlib<0.5,>=0.4.1 in /opt/conda/lib/python3.7/site-packages (from tensorboard<2.3.0,>=2.2.0->tensorflow==2.2.0) (0.4.2)\r\n",
      "Requirement already satisfied: google-auth<2,>=1.6.3 in /opt/conda/lib/python3.7/site-packages (from tensorboard<2.3.0,>=2.2.0->tensorflow==2.2.0) (1.24.0)\r\n",
      "Requirement already satisfied: tensorboard-plugin-wit>=1.6.0 in /opt/conda/lib/python3.7/site-packages (from tensorboard<2.3.0,>=2.2.0->tensorflow==2.2.0) (1.8.0)\r\n",
      "Requirement already satisfied: rsa<5,>=3.1.4 in /opt/conda/lib/python3.7/site-packages (from google-auth<2,>=1.6.3->tensorboard<2.3.0,>=2.2.0->tensorflow==2.2.0) (4.6)\r\n",
      "Requirement already satisfied: cachetools<5.0,>=2.0.0 in /opt/conda/lib/python3.7/site-packages (from google-auth<2,>=1.6.3->tensorboard<2.3.0,>=2.2.0->tensorflow==2.2.0) (4.1.1)\r\n",
      "Requirement already satisfied: pyasn1-modules>=0.2.1 in /opt/conda/lib/python3.7/site-packages (from google-auth<2,>=1.6.3->tensorboard<2.3.0,>=2.2.0->tensorflow==2.2.0) (0.2.7)\r\n",
      "Requirement already satisfied: requests-oauthlib>=0.7.0 in /opt/conda/lib/python3.7/site-packages (from google-auth-oauthlib<0.5,>=0.4.1->tensorboard<2.3.0,>=2.2.0->tensorflow==2.2.0) (1.3.0)\r\n",
      "Requirement already satisfied: importlib-metadata in /opt/conda/lib/python3.7/site-packages (from markdown>=2.6.8->tensorboard<2.3.0,>=2.2.0->tensorflow==2.2.0) (3.3.0)\r\n",
      "Requirement already satisfied: pyasn1<0.5.0,>=0.4.6 in /opt/conda/lib/python3.7/site-packages (from pyasn1-modules>=0.2.1->google-auth<2,>=1.6.3->tensorboard<2.3.0,>=2.2.0->tensorflow==2.2.0) (0.4.8)\r\n",
      "Requirement already satisfied: urllib3<1.27,>=1.21.1 in /opt/conda/lib/python3.7/site-packages (from requests<3,>=2.21.0->tensorboard<2.3.0,>=2.2.0->tensorflow==2.2.0) (1.26.2)\r\n",
      "Requirement already satisfied: chardet<5,>=3.0.2 in /opt/conda/lib/python3.7/site-packages (from requests<3,>=2.21.0->tensorboard<2.3.0,>=2.2.0->tensorflow==2.2.0) (3.0.4)\r\n",
      "Requirement already satisfied: certifi>=2017.4.17 in /opt/conda/lib/python3.7/site-packages (from requests<3,>=2.21.0->tensorboard<2.3.0,>=2.2.0->tensorflow==2.2.0) (2020.12.5)\r\n",
      "Requirement already satisfied: idna<3,>=2.5 in /opt/conda/lib/python3.7/site-packages (from requests<3,>=2.21.0->tensorboard<2.3.0,>=2.2.0->tensorflow==2.2.0) (2.10)\r\n",
      "Requirement already satisfied: oauthlib>=3.0.0 in /opt/conda/lib/python3.7/site-packages (from requests-oauthlib>=0.7.0->google-auth-oauthlib<0.5,>=0.4.1->tensorboard<2.3.0,>=2.2.0->tensorflow==2.2.0) (3.0.1)\r\n",
      "Requirement already satisfied: zipp>=0.5 in /opt/conda/lib/python3.7/site-packages (from importlib-metadata->markdown>=2.6.8->tensorboard<2.3.0,>=2.2.0->tensorflow==2.2.0) (3.4.0)\r\n",
      "Requirement already satisfied: typing-extensions>=3.6.4 in /opt/conda/lib/python3.7/site-packages (from importlib-metadata->markdown>=2.6.8->tensorboard<2.3.0,>=2.2.0->tensorflow==2.2.0) (3.7.4.3)\r\n",
      "Installing collected packages: tensorflow-estimator, tensorboard, tensorflow\r\n",
      "  Attempting uninstall: tensorflow-estimator\r\n",
      "    Found existing installation: tensorflow-estimator 2.4.0\r\n",
      "    Uninstalling tensorflow-estimator-2.4.0:\r\n",
      "      Successfully uninstalled tensorflow-estimator-2.4.0\r\n",
      "  Attempting uninstall: tensorboard\r\n",
      "    Found existing installation: tensorboard 2.4.1\r\n",
      "    Uninstalling tensorboard-2.4.1:\r\n",
      "      Successfully uninstalled tensorboard-2.4.1\r\n",
      "  Attempting uninstall: tensorflow\r\n",
      "    Found existing installation: tensorflow 2.4.0\r\n",
      "    Uninstalling tensorflow-2.4.0:\r\n",
      "      Successfully uninstalled tensorflow-2.4.0\r\n",
      "\u001b[31mERROR: pip's dependency resolver does not currently take into account all the packages that are installed. This behaviour is the source of the following dependency conflicts.\r\n",
      "tensorflow-cloud 0.1.11 requires tensorboard>=2.3.0, but you have tensorboard 2.2.2 which is incompatible.\u001b[0m\r\n",
      "Successfully installed tensorboard-2.2.2 tensorflow-2.2.0 tensorflow-estimator-2.2.0\r\n",
      "\u001b[33mWARNING: You are using pip version 21.0; however, version 21.0.1 is available.\r\n",
      "You should consider upgrading via the '/opt/conda/bin/python3.7 -m pip install --upgrade pip' command.\u001b[0m\r\n"
     ]
    }
   ],
   "source": [
    "!pip install tensorflow==2.2.0 \n",
    "\n",
    "#!pip install tensorflow~=2.2.0 tensorflow_gcs_config~=2.2.0"
   ]
  },
  {
   "cell_type": "code",
   "execution_count": 3,
   "metadata": {
    "_kg_hide-output": true,
    "execution": {
     "iopub.execute_input": "2021-02-10T13:28:59.239780Z",
     "iopub.status.busy": "2021-02-10T13:28:59.239070Z",
     "iopub.status.idle": "2021-02-10T13:29:10.443347Z",
     "shell.execute_reply": "2021-02-10T13:29:10.442576Z"
    },
    "papermill": {
     "duration": 11.449484,
     "end_time": "2021-02-10T13:29:10.443528",
     "exception": false,
     "start_time": "2021-02-10T13:28:58.994044",
     "status": "completed"
    },
    "tags": []
   },
   "outputs": [
    {
     "name": "stdout",
     "output_type": "stream",
     "text": [
      "Collecting transformers==3.5.1\r\n",
      "  Downloading transformers-3.5.1-py3-none-any.whl (1.3 MB)\r\n",
      "\u001b[K     |████████████████████████████████| 1.3 MB 2.9 MB/s \r\n",
      "\u001b[?25hCollecting tokenizers==0.9.3\r\n",
      "  Downloading tokenizers-0.9.3-cp37-cp37m-manylinux1_x86_64.whl (2.9 MB)\r\n",
      "\u001b[K     |████████████████████████████████| 2.9 MB 18.2 MB/s \r\n",
      "\u001b[?25hRequirement already satisfied: filelock in /opt/conda/lib/python3.7/site-packages (from transformers==3.5.1) (3.0.12)\r\n",
      "Requirement already satisfied: tqdm>=4.27 in /opt/conda/lib/python3.7/site-packages (from transformers==3.5.1) (4.55.1)\r\n",
      "Requirement already satisfied: sacremoses in /opt/conda/lib/python3.7/site-packages (from transformers==3.5.1) (0.0.43)\r\n",
      "Requirement already satisfied: packaging in /opt/conda/lib/python3.7/site-packages (from transformers==3.5.1) (20.8)\r\n",
      "Collecting sentencepiece==0.1.91\r\n",
      "  Downloading sentencepiece-0.1.91-cp37-cp37m-manylinux1_x86_64.whl (1.1 MB)\r\n",
      "\u001b[K     |████████████████████████████████| 1.1 MB 39.1 MB/s \r\n",
      "\u001b[?25hRequirement already satisfied: requests in /opt/conda/lib/python3.7/site-packages (from transformers==3.5.1) (2.25.1)\r\n",
      "Requirement already satisfied: protobuf in /opt/conda/lib/python3.7/site-packages (from transformers==3.5.1) (3.14.0)\r\n",
      "Requirement already satisfied: regex!=2019.12.17 in /opt/conda/lib/python3.7/site-packages (from transformers==3.5.1) (2020.11.13)\r\n",
      "Requirement already satisfied: numpy in /opt/conda/lib/python3.7/site-packages (from transformers==3.5.1) (1.19.5)\r\n",
      "Requirement already satisfied: pyparsing>=2.0.2 in /opt/conda/lib/python3.7/site-packages (from packaging->transformers==3.5.1) (2.4.7)\r\n",
      "Requirement already satisfied: six>=1.9 in /opt/conda/lib/python3.7/site-packages (from protobuf->transformers==3.5.1) (1.15.0)\r\n",
      "Requirement already satisfied: chardet<5,>=3.0.2 in /opt/conda/lib/python3.7/site-packages (from requests->transformers==3.5.1) (3.0.4)\r\n",
      "Requirement already satisfied: idna<3,>=2.5 in /opt/conda/lib/python3.7/site-packages (from requests->transformers==3.5.1) (2.10)\r\n",
      "Requirement already satisfied: urllib3<1.27,>=1.21.1 in /opt/conda/lib/python3.7/site-packages (from requests->transformers==3.5.1) (1.26.2)\r\n",
      "Requirement already satisfied: certifi>=2017.4.17 in /opt/conda/lib/python3.7/site-packages (from requests->transformers==3.5.1) (2020.12.5)\r\n",
      "Requirement already satisfied: joblib in /opt/conda/lib/python3.7/site-packages (from sacremoses->transformers==3.5.1) (1.0.0)\r\n",
      "Requirement already satisfied: click in /opt/conda/lib/python3.7/site-packages (from sacremoses->transformers==3.5.1) (7.1.2)\r\n",
      "Installing collected packages: tokenizers, sentencepiece, transformers\r\n",
      "  Attempting uninstall: tokenizers\r\n",
      "    Found existing installation: tokenizers 0.9.4\r\n",
      "    Uninstalling tokenizers-0.9.4:\r\n",
      "      Successfully uninstalled tokenizers-0.9.4\r\n",
      "  Attempting uninstall: sentencepiece\r\n",
      "    Found existing installation: sentencepiece 0.1.95\r\n",
      "    Uninstalling sentencepiece-0.1.95:\r\n",
      "      Successfully uninstalled sentencepiece-0.1.95\r\n",
      "  Attempting uninstall: transformers\r\n",
      "    Found existing installation: transformers 4.0.1\r\n",
      "    Uninstalling transformers-4.0.1:\r\n",
      "      Successfully uninstalled transformers-4.0.1\r\n",
      "\u001b[31mERROR: pip's dependency resolver does not currently take into account all the packages that are installed. This behaviour is the source of the following dependency conflicts.\r\n",
      "allennlp 1.3.0 requires transformers<4.1,>=4.0, but you have transformers 3.5.1 which is incompatible.\u001b[0m\r\n",
      "Successfully installed sentencepiece-0.1.91 tokenizers-0.9.3 transformers-3.5.1\r\n",
      "\u001b[33mWARNING: You are using pip version 21.0; however, version 21.0.1 is available.\r\n",
      "You should consider upgrading via the '/opt/conda/bin/python3.7 -m pip install --upgrade pip' command.\u001b[0m\r\n"
     ]
    }
   ],
   "source": [
    "!pip install transformers==3.5.1"
   ]
  },
  {
   "cell_type": "markdown",
   "metadata": {
    "papermill": {
     "duration": 0.24831,
     "end_time": "2021-02-10T13:29:10.945503",
     "exception": false,
     "start_time": "2021-02-10T13:29:10.697193",
     "status": "completed"
    },
    "tags": []
   },
   "source": [
    "use os.environ['TF_KERAS'] = '1' when you want to use radam instead of adam optimizer"
   ]
  },
  {
   "cell_type": "code",
   "execution_count": 4,
   "metadata": {
    "_kg_hide-output": true,
    "execution": {
     "iopub.execute_input": "2021-02-10T13:29:11.446792Z",
     "iopub.status.busy": "2021-02-10T13:29:11.445849Z",
     "iopub.status.idle": "2021-02-10T13:29:11.449847Z",
     "shell.execute_reply": "2021-02-10T13:29:11.449080Z"
    },
    "papermill": {
     "duration": 0.256241,
     "end_time": "2021-02-10T13:29:11.450009",
     "exception": false,
     "start_time": "2021-02-10T13:29:11.193768",
     "status": "completed"
    },
    "tags": []
   },
   "outputs": [],
   "source": [
    "import os \n",
    "#os.environ['TF_KERAS'] = '1'"
   ]
  },
  {
   "cell_type": "markdown",
   "metadata": {
    "papermill": {
     "duration": 0.24808,
     "end_time": "2021-02-10T13:29:11.946508",
     "exception": false,
     "start_time": "2021-02-10T13:29:11.698428",
     "status": "completed"
    },
    "tags": []
   },
   "source": [
    "# Cool Imports"
   ]
  },
  {
   "cell_type": "code",
   "execution_count": 5,
   "metadata": {
    "_cell_guid": "b1076dfc-b9ad-4769-8c92-a6c4dae69d19",
    "_kg_hide-input": true,
    "_kg_hide-output": true,
    "_uuid": "8f2839f25d086af736a60e9eeb907d3b93b6e0e5",
    "execution": {
     "iopub.execute_input": "2021-02-10T13:29:12.465669Z",
     "iopub.status.busy": "2021-02-10T13:29:12.454424Z",
     "iopub.status.idle": "2021-02-10T13:29:24.515144Z",
     "shell.execute_reply": "2021-02-10T13:29:24.514553Z"
    },
    "papermill": {
     "duration": 12.319999,
     "end_time": "2021-02-10T13:29:24.515311",
     "exception": false,
     "start_time": "2021-02-10T13:29:12.195312",
     "status": "completed"
    },
    "tags": []
   },
   "outputs": [],
   "source": [
    "# This Python 3 environment comes with many helpful analytics libraries installed\n",
    "# It is defined by the kaggle/python docker image: https://github.com/kaggle/docker-python\n",
    "# For example, here's several helpful packages to load in \n",
    "\n",
    "import numpy as np # linear algebra\n",
    "import pandas as pd # data processing, CSV file I/O (e.g. pd.read_csv)\n",
    "\n",
    "\n",
    "import gc\n",
    "import os\n",
    "import time\n",
    "import math\n",
    "import random\n",
    "import warnings\n",
    "import numpy as np\n",
    "import pandas as pd\n",
    "import seaborn as sns\n",
    "import matplotlib.pyplot as plt\n",
    "\n",
    "from datetime import date\n",
    "from transformers import *\n",
    "from sklearn.metrics import *\n",
    "from tqdm.notebook import tqdm\n",
    "\n",
    "import torch\n",
    "import torch.nn as nn\n",
    "import torch.utils.data\n",
    "import torch.nn.functional as F\n",
    "\n",
    "import matplotlib.pyplot as plt\n",
    "import seaborn as sns\n",
    "\n",
    "import warnings\n",
    "warnings.filterwarnings(\"ignore\")\n",
    "\n",
    "\n",
    "import gc\n",
    "import re\n",
    "import folium\n",
    "#import textstat\n",
    "from scipy import stats\n",
    "from colorama import Fore, Back, Style, init\n",
    "\n",
    "import math\n",
    "import numpy as np\n",
    "import scipy as sp\n",
    "import pandas as pd\n",
    "\n",
    "import random\n",
    "import networkx as nx\n",
    "from pandas import Timestamp\n",
    "\n",
    "from PIL import Image\n",
    "from IPython.display import SVG\n",
    "from keras.utils import model_to_dot\n",
    "\n",
    "import requests\n",
    "from IPython.display import HTML\n",
    "\n",
    "import seaborn as sns\n",
    "from tqdm import tqdm\n",
    "import matplotlib.cm as cm\n",
    "import matplotlib.pyplot as plt\n",
    "\n",
    "tqdm.pandas()\n",
    "\n",
    "import plotly.express as px\n",
    "import plotly.graph_objects as go\n",
    "import plotly.figure_factory as ff\n",
    "from plotly.subplots import make_subplots\n",
    "\n",
    "import transformers\n",
    "import tensorflow as tf\n",
    "\n",
    "from tensorflow.keras.callbacks import Callback\n",
    "from sklearn.metrics import accuracy_score, roc_auc_score\n",
    "from tensorflow.keras.callbacks import ModelCheckpoint, ReduceLROnPlateau, CSVLogger\n",
    "\n",
    "from tensorflow.keras.models import Model\n",
    "from kaggle_datasets import KaggleDatasets\n",
    "from tensorflow.keras.optimizers import Adam\n",
    "from tokenizers import BertWordPieceTokenizer\n",
    "from tensorflow.keras.layers import Dense, Input, Dropout, Embedding\n",
    "from tensorflow.keras.layers import LSTM, GRU, Conv1D, SpatialDropout1D\n",
    "\n",
    "from tensorflow.keras import layers\n",
    "from tensorflow.keras import optimizers\n",
    "from tensorflow.keras import activations\n",
    "from tensorflow.keras import constraints\n",
    "from tensorflow.keras import initializers\n",
    "from tensorflow.keras import regularizers\n",
    "\n",
    "import tensorflow.keras.backend as K\n",
    "from tensorflow.keras.layers import *\n",
    "from tensorflow.keras.optimizers import *\n",
    "from tensorflow.keras.activations import *\n",
    "from tensorflow.keras.constraints import *\n",
    "from tensorflow.keras.initializers import *\n",
    "from tensorflow.keras.regularizers import *\n",
    "\n",
    "from sklearn import metrics\n",
    "from sklearn.utils import shuffle\n",
    "from gensim.models import Word2Vec\n",
    "from sklearn.cluster import KMeans\n",
    "from sklearn.decomposition import PCA\n",
    "from sklearn.feature_extraction.text import TfidfVectorizer,\\\n",
    "                                            CountVectorizer,\\\n",
    "                                            HashingVectorizer\n",
    "\n",
    "from nltk.stem.wordnet import WordNetLemmatizer \n",
    "from nltk.tokenize import word_tokenize\n",
    "from nltk.tokenize import TweetTokenizer  \n",
    "\n",
    "import nltk\n",
    "from textblob import TextBlob\n",
    "\n",
    "from nltk.corpus import wordnet\n",
    "from nltk.corpus import stopwords\n",
    "#from googletrans import Translator\n",
    "from nltk import WordNetLemmatizer\n",
    "#from polyglot.detect import Detector\n",
    "from nltk.stem import WordNetLemmatizer\n",
    "from wordcloud import WordCloud, STOPWORDS\n",
    "from nltk.sentiment.vader import SentimentIntensityAnalyzer\n",
    "\n",
    "from tensorflow.keras.callbacks import EarlyStopping, ModelCheckpoint, LearningRateScheduler\n",
    "\n",
    "from transformers import AutoTokenizer\n",
    "\n",
    "from cloud_tpu_client import Client\n",
    "\n",
    "from tensorflow.keras import backend as K\n",
    "stopword=set(STOPWORDS)\n",
    "\n",
    "lem = WordNetLemmatizer()\n",
    "tokenizer=TweetTokenizer()\n",
    "\n",
    "np.random.seed(0)\n",
    "\n",
    "\n",
    "from sklearn.utils import shuffle\n",
    "# You can write up to 20GB to the current directory (/kaggle/working/) that gets preserved as output when you create a version using \"Save & Run All\" \n",
    "# You can also write temporary files to /kaggle/temp/, but they won't be saved outside of the current session"
   ]
  },
  {
   "cell_type": "markdown",
   "metadata": {
    "papermill": {
     "duration": 0.246767,
     "end_time": "2021-02-10T13:29:25.016561",
     "exception": false,
     "start_time": "2021-02-10T13:29:24.769794",
     "status": "completed"
    },
    "tags": []
   },
   "source": [
    "# checking installed version of tensorflow"
   ]
  },
  {
   "cell_type": "code",
   "execution_count": 6,
   "metadata": {
    "_cell_guid": "79c7e3d0-c299-4dcb-8224-4455121ee9b0",
    "_uuid": "d629ff2d2480ee46fbb7e2d37f6b5fab8052498a",
    "execution": {
     "iopub.execute_input": "2021-02-10T13:29:25.520474Z",
     "iopub.status.busy": "2021-02-10T13:29:25.519777Z",
     "iopub.status.idle": "2021-02-10T13:29:25.523886Z",
     "shell.execute_reply": "2021-02-10T13:29:25.524362Z"
    },
    "papermill": {
     "duration": 0.260996,
     "end_time": "2021-02-10T13:29:25.524561",
     "exception": false,
     "start_time": "2021-02-10T13:29:25.263565",
     "status": "completed"
    },
    "tags": []
   },
   "outputs": [
    {
     "data": {
      "text/plain": [
       "'2.2.0'"
      ]
     },
     "execution_count": 6,
     "metadata": {},
     "output_type": "execute_result"
    }
   ],
   "source": [
    "tf.__version__"
   ]
  },
  {
   "cell_type": "markdown",
   "metadata": {
    "papermill": {
     "duration": 0.249315,
     "end_time": "2021-02-10T13:29:26.066723",
     "exception": false,
     "start_time": "2021-02-10T13:29:25.817408",
     "status": "completed"
    },
    "tags": []
   },
   "source": [
    "# checking installed version of transformers"
   ]
  },
  {
   "cell_type": "code",
   "execution_count": 7,
   "metadata": {
    "execution": {
     "iopub.execute_input": "2021-02-10T13:29:26.574452Z",
     "iopub.status.busy": "2021-02-10T13:29:26.573245Z",
     "iopub.status.idle": "2021-02-10T13:29:26.578159Z",
     "shell.execute_reply": "2021-02-10T13:29:26.577490Z"
    },
    "papermill": {
     "duration": 0.259231,
     "end_time": "2021-02-10T13:29:26.578317",
     "exception": false,
     "start_time": "2021-02-10T13:29:26.319086",
     "status": "completed"
    },
    "tags": []
   },
   "outputs": [
    {
     "data": {
      "text/plain": [
       "'3.5.1'"
      ]
     },
     "execution_count": 7,
     "metadata": {},
     "output_type": "execute_result"
    }
   ],
   "source": [
    "transformers.__version__"
   ]
  },
  {
   "cell_type": "markdown",
   "metadata": {
    "papermill": {
     "duration": 0.249296,
     "end_time": "2021-02-10T13:29:27.080068",
     "exception": false,
     "start_time": "2021-02-10T13:29:26.830772",
     "status": "completed"
    },
    "tags": []
   },
   "source": [
    "# Reading banglish and bangla datasets"
   ]
  },
  {
   "cell_type": "code",
   "execution_count": 8,
   "metadata": {
    "_kg_hide-output": true,
    "execution": {
     "iopub.execute_input": "2021-02-10T13:29:27.583966Z",
     "iopub.status.busy": "2021-02-10T13:29:27.582915Z",
     "iopub.status.idle": "2021-02-10T13:29:27.830070Z",
     "shell.execute_reply": "2021-02-10T13:29:27.830822Z"
    },
    "papermill": {
     "duration": 0.501037,
     "end_time": "2021-02-10T13:29:27.831062",
     "exception": false,
     "start_time": "2021-02-10T13:29:27.330025",
     "status": "completed"
    },
    "tags": []
   },
   "outputs": [
    {
     "name": "stderr",
     "output_type": "stream",
     "text": [
      "b'Skipping line 3: expected 2 fields, saw 4\\nSkipping line 12: expected 2 fields, saw 3\\nSkipping line 16: expected 2 fields, saw 3\\nSkipping line 17: expected 2 fields, saw 3\\nSkipping line 20: expected 2 fields, saw 3\\nSkipping line 22: expected 2 fields, saw 3\\nSkipping line 24: expected 2 fields, saw 3\\nSkipping line 31: expected 2 fields, saw 4\\nSkipping line 48: expected 2 fields, saw 4\\nSkipping line 59: expected 2 fields, saw 3\\nSkipping line 62: expected 2 fields, saw 3\\nSkipping line 63: expected 2 fields, saw 3\\nSkipping line 64: expected 2 fields, saw 3\\nSkipping line 66: expected 2 fields, saw 3\\nSkipping line 67: expected 2 fields, saw 6\\nSkipping line 72: expected 2 fields, saw 3\\nSkipping line 76: expected 2 fields, saw 3\\nSkipping line 85: expected 2 fields, saw 3\\nSkipping line 104: expected 2 fields, saw 3\\nSkipping line 108: expected 2 fields, saw 3\\nSkipping line 113: expected 2 fields, saw 3\\nSkipping line 132: expected 2 fields, saw 3\\nSkipping line 140: expected 2 fields, saw 3\\nSkipping line 157: expected 2 fields, saw 3\\nSkipping line 164: expected 2 fields, saw 3\\nSkipping line 181: expected 2 fields, saw 4\\nSkipping line 195: expected 2 fields, saw 4\\nSkipping line 196: expected 2 fields, saw 5\\nSkipping line 200: expected 2 fields, saw 3\\nSkipping line 226: expected 2 fields, saw 3\\nSkipping line 227: expected 2 fields, saw 3\\nSkipping line 228: expected 2 fields, saw 4\\nSkipping line 229: expected 2 fields, saw 4\\nSkipping line 233: expected 2 fields, saw 3\\nSkipping line 238: expected 2 fields, saw 4\\nSkipping line 239: expected 2 fields, saw 4\\nSkipping line 251: expected 2 fields, saw 3\\nSkipping line 257: expected 2 fields, saw 3\\nSkipping line 258: expected 2 fields, saw 3\\nSkipping line 267: expected 2 fields, saw 3\\nSkipping line 269: expected 2 fields, saw 3\\nSkipping line 271: expected 2 fields, saw 3\\nSkipping line 275: expected 2 fields, saw 3\\nSkipping line 277: expected 2 fields, saw 3\\nSkipping line 282: expected 2 fields, saw 3\\nSkipping line 285: expected 2 fields, saw 3\\nSkipping line 289: expected 2 fields, saw 3\\nSkipping line 291: expected 2 fields, saw 3\\nSkipping line 296: expected 2 fields, saw 4\\nSkipping line 305: expected 2 fields, saw 3\\nSkipping line 312: expected 2 fields, saw 3\\nSkipping line 318: expected 2 fields, saw 3\\nSkipping line 319: expected 2 fields, saw 3\\nSkipping line 325: expected 2 fields, saw 3\\nSkipping line 330: expected 2 fields, saw 3\\nSkipping line 331: expected 2 fields, saw 3\\nSkipping line 334: expected 2 fields, saw 3\\nSkipping line 336: expected 2 fields, saw 3\\nSkipping line 340: expected 2 fields, saw 3\\nSkipping line 345: expected 2 fields, saw 3\\nSkipping line 348: expected 2 fields, saw 3\\nSkipping line 351: expected 2 fields, saw 3\\nSkipping line 353: expected 2 fields, saw 3\\nSkipping line 358: expected 2 fields, saw 3\\nSkipping line 362: expected 2 fields, saw 3\\nSkipping line 363: expected 2 fields, saw 5\\nSkipping line 365: expected 2 fields, saw 3\\nSkipping line 366: expected 2 fields, saw 3\\nSkipping line 369: expected 2 fields, saw 3\\nSkipping line 376: expected 2 fields, saw 3\\nSkipping line 379: expected 2 fields, saw 3\\nSkipping line 381: expected 2 fields, saw 4\\nSkipping line 382: expected 2 fields, saw 3\\nSkipping line 385: expected 2 fields, saw 4\\nSkipping line 387: expected 2 fields, saw 3\\nSkipping line 390: expected 2 fields, saw 3\\nSkipping line 393: expected 2 fields, saw 3\\nSkipping line 394: expected 2 fields, saw 4\\nSkipping line 397: expected 2 fields, saw 6\\nSkipping line 401: expected 2 fields, saw 3\\nSkipping line 403: expected 2 fields, saw 3\\nSkipping line 410: expected 2 fields, saw 3\\nSkipping line 411: expected 2 fields, saw 3\\nSkipping line 412: expected 2 fields, saw 3\\nSkipping line 413: expected 2 fields, saw 4\\nSkipping line 417: expected 2 fields, saw 3\\nSkipping line 419: expected 2 fields, saw 3\\nSkipping line 421: expected 2 fields, saw 3\\nSkipping line 423: expected 2 fields, saw 3\\nSkipping line 428: expected 2 fields, saw 3\\nSkipping line 431: expected 2 fields, saw 3\\nSkipping line 439: expected 2 fields, saw 3\\nSkipping line 442: expected 2 fields, saw 4\\nSkipping line 446: expected 2 fields, saw 3\\nSkipping line 451: expected 2 fields, saw 3\\nSkipping line 467: expected 2 fields, saw 3\\nSkipping line 470: expected 2 fields, saw 4\\nSkipping line 474: expected 2 fields, saw 4\\nSkipping line 476: expected 2 fields, saw 4\\nSkipping line 478: expected 2 fields, saw 3\\nSkipping line 482: expected 2 fields, saw 3\\nSkipping line 487: expected 2 fields, saw 3\\nSkipping line 488: expected 2 fields, saw 3\\nSkipping line 492: expected 2 fields, saw 3\\nSkipping line 493: expected 2 fields, saw 4\\nSkipping line 496: expected 2 fields, saw 4\\nSkipping line 499: expected 2 fields, saw 4\\nSkipping line 505: expected 2 fields, saw 3\\nSkipping line 507: expected 2 fields, saw 4\\nSkipping line 513: expected 2 fields, saw 5\\nSkipping line 519: expected 2 fields, saw 3\\nSkipping line 520: expected 2 fields, saw 4\\nSkipping line 521: expected 2 fields, saw 3\\nSkipping line 522: expected 2 fields, saw 3\\nSkipping line 524: expected 2 fields, saw 3\\nSkipping line 526: expected 2 fields, saw 4\\nSkipping line 531: expected 2 fields, saw 4\\nSkipping line 532: expected 2 fields, saw 3\\nSkipping line 533: expected 2 fields, saw 3\\nSkipping line 549: expected 2 fields, saw 5\\nSkipping line 554: expected 2 fields, saw 3\\nSkipping line 558: expected 2 fields, saw 3\\nSkipping line 561: expected 2 fields, saw 3\\nSkipping line 565: expected 2 fields, saw 3\\nSkipping line 569: expected 2 fields, saw 3\\nSkipping line 580: expected 2 fields, saw 3\\nSkipping line 581: expected 2 fields, saw 3\\nSkipping line 584: expected 2 fields, saw 3\\nSkipping line 2364: expected 2 fields, saw 3\\nSkipping line 2405: expected 2 fields, saw 3\\nSkipping line 2435: expected 2 fields, saw 4\\nSkipping line 2464: expected 2 fields, saw 5\\nSkipping line 2472: expected 2 fields, saw 3\\nSkipping line 2495: expected 2 fields, saw 3\\nSkipping line 2539: expected 2 fields, saw 3\\nSkipping line 2557: expected 2 fields, saw 5\\nSkipping line 2639: expected 2 fields, saw 4\\nSkipping line 2656: expected 2 fields, saw 4\\nSkipping line 2698: expected 2 fields, saw 4\\nSkipping line 2702: expected 2 fields, saw 6\\nSkipping line 2765: expected 2 fields, saw 3\\nSkipping line 2792: expected 2 fields, saw 5\\nSkipping line 2794: expected 2 fields, saw 4\\nSkipping line 2838: expected 2 fields, saw 3\\nSkipping line 2915: expected 2 fields, saw 4\\nSkipping line 2991: expected 2 fields, saw 3\\nSkipping line 3066: expected 2 fields, saw 3\\nSkipping line 3096: expected 2 fields, saw 3\\nSkipping line 3099: expected 2 fields, saw 3\\nSkipping line 3123: expected 2 fields, saw 3\\nSkipping line 3176: expected 2 fields, saw 5\\nSkipping line 3179: expected 2 fields, saw 6\\nSkipping line 3180: expected 2 fields, saw 3\\nSkipping line 3201: expected 2 fields, saw 5\\nSkipping line 3250: expected 2 fields, saw 3\\nSkipping line 3260: expected 2 fields, saw 3\\nSkipping line 3290: expected 2 fields, saw 7\\nSkipping line 3296: expected 2 fields, saw 8\\nSkipping line 3308: expected 2 fields, saw 5\\nSkipping line 3314: expected 2 fields, saw 5\\nSkipping line 3322: expected 2 fields, saw 3\\nSkipping line 3353: expected 2 fields, saw 3\\nSkipping line 3393: expected 2 fields, saw 4\\nSkipping line 3420: expected 2 fields, saw 3\\nSkipping line 3457: expected 2 fields, saw 6\\nSkipping line 3469: expected 2 fields, saw 3\\nSkipping line 3477: expected 2 fields, saw 3\\nSkipping line 3481: expected 2 fields, saw 3\\nSkipping line 3490: expected 2 fields, saw 3\\nSkipping line 3594: expected 2 fields, saw 3\\nSkipping line 3602: expected 2 fields, saw 3\\nSkipping line 3608: expected 2 fields, saw 4\\nSkipping line 3636: expected 2 fields, saw 3\\nSkipping line 3683: expected 2 fields, saw 3\\nSkipping line 3759: expected 2 fields, saw 3\\nSkipping line 3789: expected 2 fields, saw 3\\nSkipping line 3800: expected 2 fields, saw 4\\nSkipping line 3810: expected 2 fields, saw 3\\nSkipping line 3818: expected 2 fields, saw 3\\nSkipping line 3843: expected 2 fields, saw 3\\nSkipping line 3972: expected 2 fields, saw 3\\nSkipping line 3973: expected 2 fields, saw 3\\nSkipping line 3995: expected 2 fields, saw 3\\nSkipping line 4006: expected 2 fields, saw 3\\nSkipping line 4022: expected 2 fields, saw 6\\nSkipping line 4033: expected 2 fields, saw 3\\nSkipping line 4109: expected 2 fields, saw 3\\nSkipping line 4122: expected 2 fields, saw 3\\nSkipping line 4156: expected 2 fields, saw 3\\nSkipping line 4217: expected 2 fields, saw 3\\nSkipping line 4232: expected 2 fields, saw 3\\nSkipping line 4949: expected 2 fields, saw 3\\nSkipping line 4969: expected 2 fields, saw 4\\nSkipping line 4995: expected 2 fields, saw 4\\nSkipping line 5066: expected 2 fields, saw 3\\nSkipping line 5108: expected 2 fields, saw 3\\nSkipping line 5117: expected 2 fields, saw 3\\nSkipping line 5127: expected 2 fields, saw 4\\nSkipping line 5135: expected 2 fields, saw 3\\nSkipping line 5197: expected 2 fields, saw 6\\nSkipping line 5260: expected 2 fields, saw 4\\nSkipping line 5269: expected 2 fields, saw 3\\nSkipping line 5369: expected 2 fields, saw 6\\nSkipping line 5423: expected 2 fields, saw 3\\nSkipping line 5431: expected 2 fields, saw 3\\nSkipping line 5446: expected 2 fields, saw 3\\nSkipping line 5459: expected 2 fields, saw 3\\nSkipping line 5470: expected 2 fields, saw 4\\nSkipping line 5476: expected 2 fields, saw 8\\nSkipping line 5479: expected 2 fields, saw 4\\nSkipping line 5570: expected 2 fields, saw 4\\nSkipping line 5572: expected 2 fields, saw 3\\nSkipping line 5606: expected 2 fields, saw 3\\nSkipping line 5607: expected 2 fields, saw 7\\nSkipping line 5639: expected 2 fields, saw 3\\nSkipping line 5658: expected 2 fields, saw 3\\nSkipping line 5671: expected 2 fields, saw 4\\nSkipping line 5734: expected 2 fields, saw 3\\nSkipping line 5760: expected 2 fields, saw 3\\nSkipping line 5763: expected 2 fields, saw 4\\nSkipping line 5767: expected 2 fields, saw 4\\nSkipping line 5976: expected 2 fields, saw 3\\nSkipping line 5989: expected 2 fields, saw 3\\nSkipping line 6031: expected 2 fields, saw 3\\nSkipping line 6059: expected 2 fields, saw 3\\nSkipping line 6101: expected 2 fields, saw 3\\nSkipping line 6134: expected 2 fields, saw 5\\nSkipping line 6147: expected 2 fields, saw 3\\nSkipping line 6205: expected 2 fields, saw 3\\nSkipping line 6218: expected 2 fields, saw 5\\nSkipping line 6249: expected 2 fields, saw 3\\nSkipping line 6265: expected 2 fields, saw 3\\nSkipping line 6270: expected 2 fields, saw 3\\nSkipping line 6353: expected 2 fields, saw 4\\nSkipping line 6378: expected 2 fields, saw 5\\nSkipping line 6420: expected 2 fields, saw 3\\nSkipping line 6426: expected 2 fields, saw 3\\nSkipping line 6452: expected 2 fields, saw 3\\nSkipping line 6467: expected 2 fields, saw 3\\nSkipping line 6485: expected 2 fields, saw 3\\nSkipping line 6502: expected 2 fields, saw 3\\nSkipping line 6503: expected 2 fields, saw 4\\nSkipping line 6522: expected 2 fields, saw 3\\nSkipping line 6531: expected 2 fields, saw 3\\nSkipping line 6549: expected 2 fields, saw 3\\nSkipping line 6738: expected 2 fields, saw 4\\nSkipping line 6741: expected 2 fields, saw 3\\nSkipping line 6760: expected 2 fields, saw 3\\nSkipping line 6820: expected 2 fields, saw 3\\nSkipping line 6825: expected 2 fields, saw 3\\nSkipping line 6840: expected 2 fields, saw 5\\nSkipping line 6842: expected 2 fields, saw 3\\nSkipping line 6890: expected 2 fields, saw 5\\nSkipping line 6891: expected 2 fields, saw 4\\nSkipping line 6915: expected 2 fields, saw 4\\nSkipping line 6996: expected 2 fields, saw 4\\nSkipping line 7010: expected 2 fields, saw 4\\nSkipping line 7079: expected 2 fields, saw 4\\nSkipping line 7105: expected 2 fields, saw 3\\nSkipping line 7188: expected 2 fields, saw 3\\nSkipping line 7215: expected 2 fields, saw 3\\nSkipping line 7227: expected 2 fields, saw 3\\nSkipping line 7256: expected 2 fields, saw 3\\nSkipping line 7291: expected 2 fields, saw 3\\nSkipping line 7293: expected 2 fields, saw 3\\nSkipping line 7295: expected 2 fields, saw 3\\nSkipping line 7364: expected 2 fields, saw 4\\nSkipping line 7378: expected 2 fields, saw 3\\nSkipping line 7461: expected 2 fields, saw 3\\nSkipping line 7488: expected 2 fields, saw 4\\nSkipping line 7498: expected 2 fields, saw 6\\nSkipping line 7528: expected 2 fields, saw 4\\nSkipping line 7741: expected 2 fields, saw 7\\nSkipping line 7756: expected 2 fields, saw 3\\nSkipping line 7767: expected 2 fields, saw 3\\nSkipping line 7809: expected 2 fields, saw 3\\nSkipping line 7817: expected 2 fields, saw 3\\nSkipping line 7852: expected 2 fields, saw 3\\nSkipping line 7882: expected 2 fields, saw 9\\nSkipping line 7906: expected 2 fields, saw 3\\nSkipping line 7922: expected 2 fields, saw 4\\nSkipping line 7969: expected 2 fields, saw 3\\nSkipping line 8033: expected 2 fields, saw 3\\nSkipping line 8039: expected 2 fields, saw 4\\nSkipping line 8044: expected 2 fields, saw 3\\nSkipping line 8116: expected 2 fields, saw 3\\nSkipping line 8123: expected 2 fields, saw 3\\nSkipping line 8209: expected 2 fields, saw 5\\nSkipping line 8225: expected 2 fields, saw 3\\nSkipping line 8226: expected 2 fields, saw 5\\nSkipping line 8293: expected 2 fields, saw 3\\nSkipping line 8306: expected 2 fields, saw 5\\nSkipping line 8363: expected 2 fields, saw 3\\nSkipping line 8368: expected 2 fields, saw 3\\nSkipping line 8371: expected 2 fields, saw 3\\nSkipping line 8396: expected 2 fields, saw 3\\nSkipping line 8468: expected 2 fields, saw 5\\nSkipping line 8500: expected 2 fields, saw 4\\nSkipping line 8543: expected 2 fields, saw 3\\nSkipping line 8628: expected 2 fields, saw 4\\nSkipping line 8639: expected 2 fields, saw 7\\nSkipping line 8648: expected 2 fields, saw 3\\nSkipping line 8678: expected 2 fields, saw 4\\nSkipping line 8686: expected 2 fields, saw 3\\nSkipping line 8708: expected 2 fields, saw 3\\nSkipping line 8709: expected 2 fields, saw 3\\nSkipping line 8725: expected 2 fields, saw 6\\nSkipping line 8746: expected 2 fields, saw 3\\nSkipping line 8754: expected 2 fields, saw 7\\nSkipping line 8775: expected 2 fields, saw 3\\nSkipping line 8776: expected 2 fields, saw 3\\nSkipping line 8784: expected 2 fields, saw 3\\nSkipping line 8800: expected 2 fields, saw 4\\nSkipping line 8830: expected 2 fields, saw 3\\nSkipping line 8848: expected 2 fields, saw 3\\nSkipping line 8854: expected 2 fields, saw 4\\nSkipping line 8903: expected 2 fields, saw 3\\nSkipping line 8917: expected 2 fields, saw 3\\nSkipping line 8934: expected 2 fields, saw 3\\nSkipping line 8971: expected 2 fields, saw 3\\nSkipping line 8976: expected 2 fields, saw 3\\nSkipping line 9007: expected 2 fields, saw 3\\nSkipping line 9055: expected 2 fields, saw 3\\nSkipping line 9065: expected 2 fields, saw 5\\nSkipping line 9085: expected 2 fields, saw 4\\nSkipping line 9119: expected 2 fields, saw 4\\nSkipping line 9132: expected 2 fields, saw 5\\nSkipping line 9166: expected 2 fields, saw 4\\nSkipping line 9185: expected 2 fields, saw 3\\nSkipping line 9195: expected 2 fields, saw 3\\nSkipping line 9287: expected 2 fields, saw 3\\nSkipping line 9289: expected 2 fields, saw 3\\nSkipping line 9309: expected 2 fields, saw 4\\nSkipping line 9335: expected 2 fields, saw 3\\nSkipping line 9359: expected 2 fields, saw 3\\nSkipping line 9385: expected 2 fields, saw 3\\nSkipping line 9394: expected 2 fields, saw 3\\nSkipping line 9495: expected 2 fields, saw 3\\nSkipping line 9503: expected 2 fields, saw 3\\nSkipping line 9516: expected 2 fields, saw 3\\nSkipping line 9522: expected 2 fields, saw 3\\nSkipping line 9614: expected 2 fields, saw 3\\nSkipping line 9661: expected 2 fields, saw 4\\nSkipping line 9669: expected 2 fields, saw 3\\nSkipping line 9671: expected 2 fields, saw 4\\nSkipping line 9673: expected 2 fields, saw 4\\nSkipping line 9678: expected 2 fields, saw 3\\nSkipping line 9718: expected 2 fields, saw 3\\nSkipping line 9743: expected 2 fields, saw 3\\nSkipping line 9758: expected 2 fields, saw 6\\nSkipping line 9805: expected 2 fields, saw 3\\nSkipping line 9868: expected 2 fields, saw 3\\nSkipping line 9895: expected 2 fields, saw 5\\nSkipping line 9930: expected 2 fields, saw 6\\nSkipping line 9945: expected 2 fields, saw 3\\nSkipping line 10009: expected 2 fields, saw 3\\nSkipping line 10016: expected 2 fields, saw 5\\nSkipping line 10082: expected 2 fields, saw 3\\nSkipping line 10115: expected 2 fields, saw 3\\nSkipping line 10168: expected 2 fields, saw 7\\nSkipping line 10194: expected 2 fields, saw 3\\nSkipping line 10207: expected 2 fields, saw 3\\nSkipping line 10208: expected 2 fields, saw 3\\nSkipping line 10222: expected 2 fields, saw 3\\nSkipping line 10241: expected 2 fields, saw 3\\nSkipping line 10243: expected 2 fields, saw 3\\nSkipping line 10263: expected 2 fields, saw 4\\nSkipping line 10353: expected 2 fields, saw 5\\nSkipping line 10404: expected 2 fields, saw 5\\nSkipping line 10412: expected 2 fields, saw 6\\nSkipping line 10427: expected 2 fields, saw 3\\nSkipping line 10444: expected 2 fields, saw 3\\nSkipping line 10481: expected 2 fields, saw 3\\nSkipping line 10547: expected 2 fields, saw 4\\nSkipping line 10621: expected 2 fields, saw 8\\nSkipping line 10665: expected 2 fields, saw 5\\nSkipping line 10740: expected 2 fields, saw 5\\nSkipping line 10752: expected 2 fields, saw 3\\nSkipping line 10776: expected 2 fields, saw 3\\nSkipping line 10891: expected 2 fields, saw 5\\nSkipping line 10909: expected 2 fields, saw 4\\nSkipping line 10959: expected 2 fields, saw 3\\nSkipping line 10961: expected 2 fields, saw 4\\nSkipping line 11076: expected 2 fields, saw 4\\nSkipping line 11080: expected 2 fields, saw 3\\nSkipping line 11092: expected 2 fields, saw 3\\nSkipping line 11099: expected 2 fields, saw 4\\nSkipping line 11147: expected 2 fields, saw 3\\nSkipping line 11208: expected 2 fields, saw 3\\nSkipping line 11241: expected 2 fields, saw 3\\nSkipping line 11248: expected 2 fields, saw 4\\nSkipping line 11284: expected 2 fields, saw 4\\nSkipping line 11425: expected 2 fields, saw 4\\nSkipping line 11484: expected 2 fields, saw 4\\nSkipping line 11502: expected 2 fields, saw 3\\nSkipping line 11532: expected 2 fields, saw 4\\nSkipping line 11539: expected 2 fields, saw 5\\nSkipping line 11636: expected 2 fields, saw 3\\nSkipping line 11682: expected 2 fields, saw 4\\nSkipping line 11724: expected 2 fields, saw 3\\nSkipping line 11763: expected 2 fields, saw 13\\nSkipping line 11813: expected 2 fields, saw 3\\nSkipping line 11822: expected 2 fields, saw 3\\nSkipping line 11836: expected 2 fields, saw 5\\nSkipping line 12010: expected 2 fields, saw 3\\nSkipping line 12032: expected 2 fields, saw 27\\nSkipping line 12070: expected 2 fields, saw 3\\nSkipping line 12082: expected 2 fields, saw 3\\nSkipping line 12093: expected 2 fields, saw 3\\nSkipping line 12118: expected 2 fields, saw 3\\nSkipping line 12206: expected 2 fields, saw 3\\nSkipping line 12262: expected 2 fields, saw 6\\nSkipping line 12265: expected 2 fields, saw 3\\nSkipping line 12336: expected 2 fields, saw 3\\nSkipping line 12347: expected 2 fields, saw 3\\nSkipping line 12405: expected 2 fields, saw 3\\nSkipping line 12415: expected 2 fields, saw 3\\nSkipping line 12438: expected 2 fields, saw 3\\nSkipping line 12447: expected 2 fields, saw 3\\nSkipping line 12514: expected 2 fields, saw 3\\nSkipping line 12537: expected 2 fields, saw 4\\nSkipping line 12589: expected 2 fields, saw 4\\nSkipping line 12679: expected 2 fields, saw 5\\nSkipping line 12704: expected 2 fields, saw 3\\nSkipping line 12796: expected 2 fields, saw 3\\nSkipping line 12825: expected 2 fields, saw 3\\nSkipping line 12883: expected 2 fields, saw 4\\nSkipping line 12935: expected 2 fields, saw 3\\nSkipping line 13008: expected 2 fields, saw 3\\nSkipping line 13018: expected 2 fields, saw 3\\nSkipping line 13020: expected 2 fields, saw 3\\nSkipping line 13024: expected 2 fields, saw 4\\nSkipping line 13025: expected 2 fields, saw 3\\nSkipping line 13029: expected 2 fields, saw 4\\nSkipping line 13084: expected 2 fields, saw 3\\nSkipping line 13287: expected 2 fields, saw 4\\nSkipping line 13296: expected 2 fields, saw 7\\nSkipping line 13331: expected 2 fields, saw 4\\nSkipping line 13340: expected 2 fields, saw 3\\nSkipping line 13343: expected 2 fields, saw 3\\nSkipping line 13344: expected 2 fields, saw 3\\nSkipping line 13355: expected 2 fields, saw 4\\nSkipping line 13361: expected 2 fields, saw 4\\nSkipping line 13377: expected 2 fields, saw 4\\nSkipping line 13421: expected 2 fields, saw 3\\nSkipping line 13446: expected 2 fields, saw 3\\nSkipping line 13473: expected 2 fields, saw 5\\nSkipping line 13480: expected 2 fields, saw 3\\nSkipping line 13513: expected 2 fields, saw 3\\nSkipping line 13515: expected 2 fields, saw 3\\nSkipping line 13517: expected 2 fields, saw 3\\nSkipping line 13587: expected 2 fields, saw 3\\nSkipping line 13588: expected 2 fields, saw 4\\nSkipping line 13614: expected 2 fields, saw 3\\nSkipping line 13705: expected 2 fields, saw 3\\nSkipping line 13787: expected 2 fields, saw 3\\nSkipping line 13864: expected 2 fields, saw 3\\nSkipping line 13908: expected 2 fields, saw 6\\nSkipping line 14018: expected 2 fields, saw 3\\nSkipping line 14029: expected 2 fields, saw 3\\nSkipping line 14032: expected 2 fields, saw 9\\nSkipping line 14195: expected 2 fields, saw 5\\nSkipping line 14237: expected 2 fields, saw 3\\nSkipping line 14334: expected 2 fields, saw 4\\nSkipping line 14348: expected 2 fields, saw 3\\nSkipping line 14423: expected 2 fields, saw 3\\nSkipping line 14455: expected 2 fields, saw 3\\nSkipping line 14463: expected 2 fields, saw 3\\nSkipping line 14568: expected 2 fields, saw 3\\nSkipping line 14612: expected 2 fields, saw 6\\nSkipping line 14621: expected 2 fields, saw 3\\nSkipping line 14623: expected 2 fields, saw 3\\nSkipping line 14684: expected 2 fields, saw 3\\nSkipping line 14713: expected 2 fields, saw 3\\nSkipping line 14749: expected 2 fields, saw 3\\nSkipping line 14786: expected 2 fields, saw 3\\nSkipping line 14878: expected 2 fields, saw 3\\nSkipping line 14885: expected 2 fields, saw 3\\nSkipping line 14923: expected 2 fields, saw 3\\nSkipping line 14926: expected 2 fields, saw 3\\nSkipping line 14938: expected 2 fields, saw 4\\nSkipping line 14967: expected 2 fields, saw 4\\nSkipping line 14998: expected 2 fields, saw 4\\nSkipping line 15046: expected 2 fields, saw 3\\nSkipping line 15048: expected 2 fields, saw 4\\nSkipping line 15053: expected 2 fields, saw 3\\n'\n"
     ]
    }
   ],
   "source": [
    "trainData1 = pd.read_csv('/kaggle/input/banglasentimentanalysis/data.csv', error_bad_lines=False)\n",
    "\n",
    "trainData = pd.read_csv('../input/romanicbanglasentiment/RomanicBanglaSentiment.csv', error_bad_lines=False)\n"
   ]
  },
  {
   "cell_type": "markdown",
   "metadata": {
    "papermill": {
     "duration": 0.250916,
     "end_time": "2021-02-10T13:29:28.342578",
     "exception": false,
     "start_time": "2021-02-10T13:29:28.091662",
     "status": "completed"
    },
    "tags": []
   },
   "source": [
    "# droping NaN values"
   ]
  },
  {
   "cell_type": "code",
   "execution_count": 9,
   "metadata": {
    "execution": {
     "iopub.execute_input": "2021-02-10T13:29:28.856535Z",
     "iopub.status.busy": "2021-02-10T13:29:28.855440Z",
     "iopub.status.idle": "2021-02-10T13:29:28.890189Z",
     "shell.execute_reply": "2021-02-10T13:29:28.889631Z"
    },
    "papermill": {
     "duration": 0.290383,
     "end_time": "2021-02-10T13:29:28.890346",
     "exception": false,
     "start_time": "2021-02-10T13:29:28.599963",
     "status": "completed"
    },
    "tags": []
   },
   "outputs": [],
   "source": [
    " trainData.dropna(inplace=True)"
   ]
  },
  {
   "cell_type": "markdown",
   "metadata": {
    "papermill": {
     "duration": 0.250792,
     "end_time": "2021-02-10T13:29:29.389071",
     "exception": false,
     "start_time": "2021-02-10T13:29:29.138279",
     "status": "completed"
    },
    "tags": []
   },
   "source": [
    "# changing sentiment column type from float to int"
   ]
  },
  {
   "cell_type": "code",
   "execution_count": 10,
   "metadata": {
    "execution": {
     "iopub.execute_input": "2021-02-10T13:29:29.902646Z",
     "iopub.status.busy": "2021-02-10T13:29:29.901735Z",
     "iopub.status.idle": "2021-02-10T13:29:29.905099Z",
     "shell.execute_reply": "2021-02-10T13:29:29.904407Z"
    },
    "papermill": {
     "duration": 0.26772,
     "end_time": "2021-02-10T13:29:29.905251",
     "exception": false,
     "start_time": "2021-02-10T13:29:29.637531",
     "status": "completed"
    },
    "tags": []
   },
   "outputs": [],
   "source": [
    "trainData.sentiment = trainData.sentiment.astype(int)"
   ]
  },
  {
   "cell_type": "markdown",
   "metadata": {
    "papermill": {
     "duration": 0.246235,
     "end_time": "2021-02-10T13:29:30.545535",
     "exception": false,
     "start_time": "2021-02-10T13:29:30.299300",
     "status": "completed"
    },
    "tags": []
   },
   "source": [
    "# in original banglish dataset sentiment 0,3 was indicating positive sentiment label,we are replacing label 0,3 with 1,now 1 will represent as positive sentiment"
   ]
  },
  {
   "cell_type": "code",
   "execution_count": 11,
   "metadata": {
    "execution": {
     "iopub.execute_input": "2021-02-10T13:29:31.061015Z",
     "iopub.status.busy": "2021-02-10T13:29:31.060148Z",
     "iopub.status.idle": "2021-02-10T13:29:31.063353Z",
     "shell.execute_reply": "2021-02-10T13:29:31.062705Z"
    },
    "papermill": {
     "duration": 0.270507,
     "end_time": "2021-02-10T13:29:31.063521",
     "exception": false,
     "start_time": "2021-02-10T13:29:30.793014",
     "status": "completed"
    },
    "tags": []
   },
   "outputs": [],
   "source": [
    "\n",
    "trainData['sentiment'][trainData['sentiment']==0] = 1\n",
    "trainData['sentiment'][trainData['sentiment']==3] = 1 \n",
    "# 1 == pos"
   ]
  },
  {
   "cell_type": "markdown",
   "metadata": {
    "papermill": {
     "duration": 0.247145,
     "end_time": "2021-02-10T13:29:31.561839",
     "exception": false,
     "start_time": "2021-02-10T13:29:31.314694",
     "status": "completed"
    },
    "tags": []
   },
   "source": [
    "# in original banglish dataset sentiment 2 was indicating negative sentiment,replacing 2 with 0,now 0 will represent as negative sentiment"
   ]
  },
  {
   "cell_type": "code",
   "execution_count": 12,
   "metadata": {
    "execution": {
     "iopub.execute_input": "2021-02-10T13:29:32.070346Z",
     "iopub.status.busy": "2021-02-10T13:29:32.069673Z",
     "iopub.status.idle": "2021-02-10T13:29:32.073583Z",
     "shell.execute_reply": "2021-02-10T13:29:32.072871Z"
    },
    "papermill": {
     "duration": 0.262329,
     "end_time": "2021-02-10T13:29:32.073743",
     "exception": false,
     "start_time": "2021-02-10T13:29:31.811414",
     "status": "completed"
    },
    "tags": []
   },
   "outputs": [],
   "source": [
    "trainData['sentiment'][trainData['sentiment']==2] = 0 #neg"
   ]
  },
  {
   "cell_type": "markdown",
   "metadata": {
    "papermill": {
     "duration": 0.24702,
     "end_time": "2021-02-10T13:29:32.570845",
     "exception": false,
     "start_time": "2021-02-10T13:29:32.323825",
     "status": "completed"
    },
    "tags": []
   },
   "source": [
    "# checking banglish,murad takla dataset sample distribution"
   ]
  },
  {
   "cell_type": "code",
   "execution_count": 13,
   "metadata": {
    "execution": {
     "iopub.execute_input": "2021-02-10T13:29:33.095058Z",
     "iopub.status.busy": "2021-02-10T13:29:33.093931Z",
     "iopub.status.idle": "2021-02-10T13:29:33.098726Z",
     "shell.execute_reply": "2021-02-10T13:29:33.098073Z"
    },
    "papermill": {
     "duration": 0.274679,
     "end_time": "2021-02-10T13:29:33.098871",
     "exception": false,
     "start_time": "2021-02-10T13:29:32.824192",
     "status": "completed"
    },
    "tags": []
   },
   "outputs": [
    {
     "data": {
      "text/plain": [
       "1    3951\n",
       "0    1047\n",
       "Name: sentiment, dtype: int64"
      ]
     },
     "execution_count": 13,
     "metadata": {},
     "output_type": "execute_result"
    }
   ],
   "source": [
    "trainData.sentiment.value_counts()"
   ]
  },
  {
   "cell_type": "code",
   "execution_count": 14,
   "metadata": {
    "execution": {
     "iopub.execute_input": "2021-02-10T13:29:33.619508Z",
     "iopub.status.busy": "2021-02-10T13:29:33.617207Z",
     "iopub.status.idle": "2021-02-10T13:29:33.638227Z",
     "shell.execute_reply": "2021-02-10T13:29:33.636797Z"
    },
    "papermill": {
     "duration": 0.282675,
     "end_time": "2021-02-10T13:29:33.638472",
     "exception": false,
     "start_time": "2021-02-10T13:29:33.355797",
     "status": "completed"
    },
    "tags": []
   },
   "outputs": [
    {
     "data": {
      "text/html": [
       "<div>\n",
       "<style scoped>\n",
       "    .dataframe tbody tr th:only-of-type {\n",
       "        vertical-align: middle;\n",
       "    }\n",
       "\n",
       "    .dataframe tbody tr th {\n",
       "        vertical-align: top;\n",
       "    }\n",
       "\n",
       "    .dataframe thead th {\n",
       "        text-align: right;\n",
       "    }\n",
       "</style>\n",
       "<table border=\"1\" class=\"dataframe\">\n",
       "  <thead>\n",
       "    <tr style=\"text-align: right;\">\n",
       "      <th></th>\n",
       "      <th>Unnamed: 0</th>\n",
       "      <th>text</th>\n",
       "      <th>sentiment</th>\n",
       "    </tr>\n",
       "  </thead>\n",
       "  <tbody>\n",
       "    <tr>\n",
       "      <th>0</th>\n",
       "      <td>0</td>\n",
       "      <td>bl theke apnader sathe sorasori kotha bolbo p...</td>\n",
       "      <td>1</td>\n",
       "    </tr>\n",
       "    <tr>\n",
       "      <th>1</th>\n",
       "      <td>1</td>\n",
       "      <td>Achcha amar gp sim ta off na on ei ta dekar c...</td>\n",
       "      <td>1</td>\n",
       "    </tr>\n",
       "    <tr>\n",
       "      <th>2</th>\n",
       "      <td>2</td>\n",
       "      <td>5 tk 500 mb dial *5000*150# offer ta koto din...</td>\n",
       "      <td>1</td>\n",
       "    </tr>\n",
       "    <tr>\n",
       "      <th>3</th>\n",
       "      <td>3</td>\n",
       "      <td>gp te 78 takar recharge ki hobe</td>\n",
       "      <td>1</td>\n",
       "    </tr>\n",
       "    <tr>\n",
       "      <th>4</th>\n",
       "      <td>4</td>\n",
       "      <td>gp te advance balance die mb kina jai na kn? ...</td>\n",
       "      <td>0</td>\n",
       "    </tr>\n",
       "    <tr>\n",
       "      <th>...</th>\n",
       "      <td>...</td>\n",
       "      <td>...</td>\n",
       "      <td>...</td>\n",
       "    </tr>\n",
       "    <tr>\n",
       "      <th>4994</th>\n",
       "      <td>4994</td>\n",
       "      <td>Apu ami apnar daron friend.....</td>\n",
       "      <td>1</td>\n",
       "    </tr>\n",
       "    <tr>\n",
       "      <th>4995</th>\n",
       "      <td>4995</td>\n",
       "      <td>apnr tel ta onk sondor</td>\n",
       "      <td>1</td>\n",
       "    </tr>\n",
       "    <tr>\n",
       "      <th>4996</th>\n",
       "      <td>4996</td>\n",
       "      <td>ami jani na ... right answer ki ?</td>\n",
       "      <td>1</td>\n",
       "    </tr>\n",
       "    <tr>\n",
       "      <th>4997</th>\n",
       "      <td>4997</td>\n",
       "      <td>Ami tomake khub love kori...</td>\n",
       "      <td>1</td>\n",
       "    </tr>\n",
       "    <tr>\n",
       "      <th>4998</th>\n",
       "      <td>4998</td>\n",
       "      <td>Apu tomake onek nice lagtece</td>\n",
       "      <td>1</td>\n",
       "    </tr>\n",
       "  </tbody>\n",
       "</table>\n",
       "<p>4998 rows × 3 columns</p>\n",
       "</div>"
      ],
      "text/plain": [
       "      Unnamed: 0                                               text  sentiment\n",
       "0              0   bl theke apnader sathe sorasori kotha bolbo p...          1\n",
       "1              1   Achcha amar gp sim ta off na on ei ta dekar c...          1\n",
       "2              2   5 tk 500 mb dial *5000*150# offer ta koto din...          1\n",
       "3              3                   gp te 78 takar recharge ki hobe           1\n",
       "4              4   gp te advance balance die mb kina jai na kn? ...          0\n",
       "...          ...                                                ...        ...\n",
       "4994        4994                   Apu ami apnar daron friend.....           1\n",
       "4995        4995                            apnr tel ta onk sondor           1\n",
       "4996        4996                 ami jani na ... right answer ki ?           1\n",
       "4997        4997                      Ami tomake khub love kori...           1\n",
       "4998        4998                      Apu tomake onek nice lagtece           1\n",
       "\n",
       "[4998 rows x 3 columns]"
      ]
     },
     "execution_count": 14,
     "metadata": {},
     "output_type": "execute_result"
    }
   ],
   "source": [
    "trainData"
   ]
  },
  {
   "cell_type": "markdown",
   "metadata": {
    "papermill": {
     "duration": 0.253469,
     "end_time": "2021-02-10T13:29:34.145737",
     "exception": false,
     "start_time": "2021-02-10T13:29:33.892268",
     "status": "completed"
    },
    "tags": []
   },
   "source": [
    "# from banglish/murad takla dataset, randomly taking 1000 positive samples and 500 negative samples for validation set(roughly 30% data) and remaining samples will be used for training our model"
   ]
  },
  {
   "cell_type": "code",
   "execution_count": 15,
   "metadata": {
    "execution": {
     "iopub.execute_input": "2021-02-10T13:29:34.670648Z",
     "iopub.status.busy": "2021-02-10T13:29:34.669907Z",
     "iopub.status.idle": "2021-02-10T13:29:34.693610Z",
     "shell.execute_reply": "2021-02-10T13:29:34.693031Z"
    },
    "papermill": {
     "duration": 0.291505,
     "end_time": "2021-02-10T13:29:34.693772",
     "exception": false,
     "start_time": "2021-02-10T13:29:34.402267",
     "status": "completed"
    },
    "tags": []
   },
   "outputs": [
    {
     "data": {
      "text/plain": [
       "1500"
      ]
     },
     "execution_count": 15,
     "metadata": {},
     "output_type": "execute_result"
    }
   ],
   "source": [
    "val =  pd.concat([\n",
    "  \n",
    "    trainData[['text', 'sentiment']].query('sentiment==1').sample(n=1000, random_state=0),\n",
    "\n",
    "    \n",
    "    trainData[['text', 'sentiment']].query('sentiment==0').sample(n=500, random_state=0)\n",
    "])\n",
    "val.reset_index(inplace = True)\n",
    "len(val)"
   ]
  },
  {
   "cell_type": "code",
   "execution_count": 16,
   "metadata": {
    "execution": {
     "iopub.execute_input": "2021-02-10T13:29:35.218471Z",
     "iopub.status.busy": "2021-02-10T13:29:35.216966Z",
     "iopub.status.idle": "2021-02-10T13:29:35.224285Z",
     "shell.execute_reply": "2021-02-10T13:29:35.223701Z"
    },
    "papermill": {
     "duration": 0.273281,
     "end_time": "2021-02-10T13:29:35.224451",
     "exception": false,
     "start_time": "2021-02-10T13:29:34.951170",
     "status": "completed"
    },
    "tags": []
   },
   "outputs": [
    {
     "data": {
      "text/plain": [
       "RangeIndex(start=0, stop=1500, step=1)"
      ]
     },
     "execution_count": 16,
     "metadata": {},
     "output_type": "execute_result"
    }
   ],
   "source": [
    "list1 = val.index\n",
    "list1"
   ]
  },
  {
   "cell_type": "code",
   "execution_count": 17,
   "metadata": {
    "execution": {
     "iopub.execute_input": "2021-02-10T13:29:35.734270Z",
     "iopub.status.busy": "2021-02-10T13:29:35.731206Z",
     "iopub.status.idle": "2021-02-10T13:29:35.736779Z",
     "shell.execute_reply": "2021-02-10T13:29:35.737270Z"
    },
    "papermill": {
     "duration": 0.263661,
     "end_time": "2021-02-10T13:29:35.737469",
     "exception": false,
     "start_time": "2021-02-10T13:29:35.473808",
     "status": "completed"
    },
    "tags": []
   },
   "outputs": [],
   "source": [
    "train = trainData.loc[~trainData.index.isin(list1)]\n",
    "train.reset_index(inplace = True) "
   ]
  },
  {
   "cell_type": "markdown",
   "metadata": {
    "papermill": {
     "duration": 0.254531,
     "end_time": "2021-02-10T13:29:36.241691",
     "exception": false,
     "start_time": "2021-02-10T13:29:35.987160",
     "status": "completed"
    },
    "tags": []
   },
   "source": [
    "# Reading and merging sst-2 datasets train and validation set together"
   ]
  },
  {
   "cell_type": "code",
   "execution_count": 18,
   "metadata": {
    "execution": {
     "iopub.execute_input": "2021-02-10T13:29:36.864216Z",
     "iopub.status.busy": "2021-02-10T13:29:36.863210Z",
     "iopub.status.idle": "2021-02-10T13:29:37.085703Z",
     "shell.execute_reply": "2021-02-10T13:29:37.084202Z"
    },
    "papermill": {
     "duration": 0.565192,
     "end_time": "2021-02-10T13:29:37.085871",
     "exception": false,
     "start_time": "2021-02-10T13:29:36.520679",
     "status": "completed"
    },
    "tags": []
   },
   "outputs": [],
   "source": [
    "\n",
    "sst2train  = pd.read_csv('../input/dataset-sst-2/train_dataset.csv')\n",
    "sst2valid  = pd.read_csv('../input/dataset-sst-2/valid_dataset.csv')\n",
    "\n",
    "sst2 = pd.concat([sst2train, sst2valid],axis = 0)\n",
    "\n"
   ]
  },
  {
   "cell_type": "markdown",
   "metadata": {
    "papermill": {
     "duration": 0.248389,
     "end_time": "2021-02-10T13:29:37.589965",
     "exception": false,
     "start_time": "2021-02-10T13:29:37.341576",
     "status": "completed"
    },
    "tags": []
   },
   "source": [
    "# renaming sst-2 datasets text and label column with name sentence and sentiment "
   ]
  },
  {
   "cell_type": "code",
   "execution_count": 19,
   "metadata": {
    "execution": {
     "iopub.execute_input": "2021-02-10T13:29:38.101520Z",
     "iopub.status.busy": "2021-02-10T13:29:38.099508Z",
     "iopub.status.idle": "2021-02-10T13:29:38.103944Z",
     "shell.execute_reply": "2021-02-10T13:29:38.104521Z"
    },
    "papermill": {
     "duration": 0.263037,
     "end_time": "2021-02-10T13:29:38.104712",
     "exception": false,
     "start_time": "2021-02-10T13:29:37.841675",
     "status": "completed"
    },
    "tags": []
   },
   "outputs": [],
   "source": [
    "\n",
    "sst2 = sst2.rename(columns={\"sentence\": \"text\", \"label\": \"sentiment\"})"
   ]
  },
  {
   "cell_type": "code",
   "execution_count": 20,
   "metadata": {
    "execution": {
     "iopub.execute_input": "2021-02-10T13:29:38.609082Z",
     "iopub.status.busy": "2021-02-10T13:29:38.608057Z",
     "iopub.status.idle": "2021-02-10T13:29:38.621706Z",
     "shell.execute_reply": "2021-02-10T13:29:38.621166Z"
    },
    "papermill": {
     "duration": 0.265841,
     "end_time": "2021-02-10T13:29:38.621856",
     "exception": false,
     "start_time": "2021-02-10T13:29:38.356015",
     "status": "completed"
    },
    "tags": []
   },
   "outputs": [
    {
     "data": {
      "text/html": [
       "<div>\n",
       "<style scoped>\n",
       "    .dataframe tbody tr th:only-of-type {\n",
       "        vertical-align: middle;\n",
       "    }\n",
       "\n",
       "    .dataframe tbody tr th {\n",
       "        vertical-align: top;\n",
       "    }\n",
       "\n",
       "    .dataframe thead th {\n",
       "        text-align: right;\n",
       "    }\n",
       "</style>\n",
       "<table border=\"1\" class=\"dataframe\">\n",
       "  <thead>\n",
       "    <tr style=\"text-align: right;\">\n",
       "      <th></th>\n",
       "      <th>text</th>\n",
       "      <th>sentiment</th>\n",
       "    </tr>\n",
       "  </thead>\n",
       "  <tbody>\n",
       "    <tr>\n",
       "      <th>0</th>\n",
       "      <td>hide new secretions from the parental units</td>\n",
       "      <td>0</td>\n",
       "    </tr>\n",
       "    <tr>\n",
       "      <th>1</th>\n",
       "      <td>contains no wit , only labored gags</td>\n",
       "      <td>0</td>\n",
       "    </tr>\n",
       "    <tr>\n",
       "      <th>2</th>\n",
       "      <td>that loves its characters and communicates som...</td>\n",
       "      <td>1</td>\n",
       "    </tr>\n",
       "    <tr>\n",
       "      <th>3</th>\n",
       "      <td>remains utterly satisfied to remain the same t...</td>\n",
       "      <td>0</td>\n",
       "    </tr>\n",
       "    <tr>\n",
       "      <th>4</th>\n",
       "      <td>on the worst revenge-of-the-nerds clichés the ...</td>\n",
       "      <td>0</td>\n",
       "    </tr>\n",
       "    <tr>\n",
       "      <th>...</th>\n",
       "      <td>...</td>\n",
       "      <td>...</td>\n",
       "    </tr>\n",
       "    <tr>\n",
       "      <th>867</th>\n",
       "      <td>has all the depth of a wading pool .</td>\n",
       "      <td>0</td>\n",
       "    </tr>\n",
       "    <tr>\n",
       "      <th>868</th>\n",
       "      <td>a movie with a real anarchic flair .</td>\n",
       "      <td>1</td>\n",
       "    </tr>\n",
       "    <tr>\n",
       "      <th>869</th>\n",
       "      <td>a subject like this should inspire reaction in...</td>\n",
       "      <td>0</td>\n",
       "    </tr>\n",
       "    <tr>\n",
       "      <th>870</th>\n",
       "      <td>... is an arthritic attempt at directing by ca...</td>\n",
       "      <td>0</td>\n",
       "    </tr>\n",
       "    <tr>\n",
       "      <th>871</th>\n",
       "      <td>looking aristocratic , luminous yet careworn i...</td>\n",
       "      <td>1</td>\n",
       "    </tr>\n",
       "  </tbody>\n",
       "</table>\n",
       "<p>68221 rows × 2 columns</p>\n",
       "</div>"
      ],
      "text/plain": [
       "                                                  text  sentiment\n",
       "0         hide new secretions from the parental units           0\n",
       "1                 contains no wit , only labored gags           0\n",
       "2    that loves its characters and communicates som...          1\n",
       "3    remains utterly satisfied to remain the same t...          0\n",
       "4    on the worst revenge-of-the-nerds clichés the ...          0\n",
       "..                                                 ...        ...\n",
       "867              has all the depth of a wading pool .           0\n",
       "868              a movie with a real anarchic flair .           1\n",
       "869  a subject like this should inspire reaction in...          0\n",
       "870  ... is an arthritic attempt at directing by ca...          0\n",
       "871  looking aristocratic , luminous yet careworn i...          1\n",
       "\n",
       "[68221 rows x 2 columns]"
      ]
     },
     "execution_count": 20,
     "metadata": {},
     "output_type": "execute_result"
    }
   ],
   "source": [
    "sst2"
   ]
  },
  {
   "cell_type": "markdown",
   "metadata": {
    "papermill": {
     "duration": 0.253886,
     "end_time": "2021-02-10T13:29:39.128081",
     "exception": false,
     "start_time": "2021-02-10T13:29:38.874195",
     "status": "completed"
    },
    "tags": []
   },
   "source": [
    "# merging full sst2 dataset with bangla sentiment dataset and train set of banglish or murad takla dataset to get large training sample for fine tuning xlm roberta large"
   ]
  },
  {
   "cell_type": "code",
   "execution_count": 21,
   "metadata": {
    "execution": {
     "iopub.execute_input": "2021-02-10T13:29:39.637877Z",
     "iopub.status.busy": "2021-02-10T13:29:39.636752Z",
     "iopub.status.idle": "2021-02-10T13:29:39.651650Z",
     "shell.execute_reply": "2021-02-10T13:29:39.650961Z"
    },
    "papermill": {
     "duration": 0.272302,
     "end_time": "2021-02-10T13:29:39.651834",
     "exception": false,
     "start_time": "2021-02-10T13:29:39.379532",
     "status": "completed"
    },
    "tags": []
   },
   "outputs": [],
   "source": [
    "\n",
    "train  = pd.concat([sst2, train],axis = 0)\n",
    "\n",
    "\n",
    "train  = pd.concat([trainData1, train],axis = 0)\n",
    "\n"
   ]
  },
  {
   "cell_type": "markdown",
   "metadata": {
    "papermill": {
     "duration": 0.254503,
     "end_time": "2021-02-10T13:29:40.159474",
     "exception": false,
     "start_time": "2021-02-10T13:29:39.904971",
     "status": "completed"
    },
    "tags": []
   },
   "source": [
    "# shuffling our final train set"
   ]
  },
  {
   "cell_type": "code",
   "execution_count": 22,
   "metadata": {
    "execution": {
     "iopub.execute_input": "2021-02-10T13:29:40.806969Z",
     "iopub.status.busy": "2021-02-10T13:29:40.806308Z",
     "iopub.status.idle": "2021-02-10T13:29:40.834305Z",
     "shell.execute_reply": "2021-02-10T13:29:40.833611Z"
    },
    "papermill": {
     "duration": 0.291801,
     "end_time": "2021-02-10T13:29:40.834488",
     "exception": false,
     "start_time": "2021-02-10T13:29:40.542687",
     "status": "completed"
    },
    "tags": []
   },
   "outputs": [
    {
     "data": {
      "text/html": [
       "<div>\n",
       "<style scoped>\n",
       "    .dataframe tbody tr th:only-of-type {\n",
       "        vertical-align: middle;\n",
       "    }\n",
       "\n",
       "    .dataframe tbody tr th {\n",
       "        vertical-align: top;\n",
       "    }\n",
       "\n",
       "    .dataframe thead th {\n",
       "        text-align: right;\n",
       "    }\n",
       "</style>\n",
       "<table border=\"1\" class=\"dataframe\">\n",
       "  <thead>\n",
       "    <tr style=\"text-align: right;\">\n",
       "      <th></th>\n",
       "      <th>sentiment</th>\n",
       "      <th>text</th>\n",
       "      <th>index</th>\n",
       "      <th>Unnamed: 0</th>\n",
       "    </tr>\n",
       "  </thead>\n",
       "  <tbody>\n",
       "    <tr>\n",
       "      <th>60580</th>\n",
       "      <td>0</td>\n",
       "      <td>in self-consciously flashy camera effects , dr...</td>\n",
       "      <td>NaN</td>\n",
       "      <td>NaN</td>\n",
       "    </tr>\n",
       "    <tr>\n",
       "      <th>2989</th>\n",
       "      <td>1</td>\n",
       "      <td>iccha ace..??but ki korte hbe</td>\n",
       "      <td>4489.0</td>\n",
       "      <td>4489.0</td>\n",
       "    </tr>\n",
       "    <tr>\n",
       "      <th>46696</th>\n",
       "      <td>0</td>\n",
       "      <td>by this tired retread</td>\n",
       "      <td>NaN</td>\n",
       "      <td>NaN</td>\n",
       "    </tr>\n",
       "    <tr>\n",
       "      <th>23291</th>\n",
       "      <td>0</td>\n",
       "      <td>would require many sessions on the couch of dr...</td>\n",
       "      <td>NaN</td>\n",
       "      <td>NaN</td>\n",
       "    </tr>\n",
       "    <tr>\n",
       "      <th>8337</th>\n",
       "      <td>0</td>\n",
       "      <td>আওয়ামী লীগ মানেই শেয়ার বাজার পতন</td>\n",
       "      <td>NaN</td>\n",
       "      <td>NaN</td>\n",
       "    </tr>\n",
       "    <tr>\n",
       "      <th>...</th>\n",
       "      <td>...</td>\n",
       "      <td>...</td>\n",
       "      <td>...</td>\n",
       "      <td>...</td>\n",
       "    </tr>\n",
       "    <tr>\n",
       "      <th>6635</th>\n",
       "      <td>0</td>\n",
       "      <td>the movie around them is so often nearly nothi...</td>\n",
       "      <td>NaN</td>\n",
       "      <td>NaN</td>\n",
       "    </tr>\n",
       "    <tr>\n",
       "      <th>31283</th>\n",
       "      <td>1</td>\n",
       "      <td>is certainly easy to watch .</td>\n",
       "      <td>NaN</td>\n",
       "      <td>NaN</td>\n",
       "    </tr>\n",
       "    <tr>\n",
       "      <th>28005</th>\n",
       "      <td>0</td>\n",
       "      <td>while some will object to the idea of a vietna...</td>\n",
       "      <td>NaN</td>\n",
       "      <td>NaN</td>\n",
       "    </tr>\n",
       "    <tr>\n",
       "      <th>28959</th>\n",
       "      <td>1</td>\n",
       "      <td>dickens ' words and writer-director douglas mc...</td>\n",
       "      <td>NaN</td>\n",
       "      <td>NaN</td>\n",
       "    </tr>\n",
       "    <tr>\n",
       "      <th>53660</th>\n",
       "      <td>1</td>\n",
       "      <td>pizazz</td>\n",
       "      <td>NaN</td>\n",
       "      <td>NaN</td>\n",
       "    </tr>\n",
       "  </tbody>\n",
       "</table>\n",
       "<p>86328 rows × 4 columns</p>\n",
       "</div>"
      ],
      "text/plain": [
       "       sentiment                                               text   index  \\\n",
       "60580          0  in self-consciously flashy camera effects , dr...     NaN   \n",
       "2989           1                     iccha ace..??but ki korte hbe   4489.0   \n",
       "46696          0                             by this tired retread      NaN   \n",
       "23291          0  would require many sessions on the couch of dr...     NaN   \n",
       "8337           0                  আওয়ামী লীগ মানেই শেয়ার বাজার পতন     NaN   \n",
       "...          ...                                                ...     ...   \n",
       "6635           0  the movie around them is so often nearly nothi...     NaN   \n",
       "31283          1                      is certainly easy to watch .      NaN   \n",
       "28005          0  while some will object to the idea of a vietna...     NaN   \n",
       "28959          1  dickens ' words and writer-director douglas mc...     NaN   \n",
       "53660          1                                            pizazz      NaN   \n",
       "\n",
       "       Unnamed: 0  \n",
       "60580         NaN  \n",
       "2989       4489.0  \n",
       "46696         NaN  \n",
       "23291         NaN  \n",
       "8337          NaN  \n",
       "...           ...  \n",
       "6635          NaN  \n",
       "31283         NaN  \n",
       "28005         NaN  \n",
       "28959         NaN  \n",
       "53660         NaN  \n",
       "\n",
       "[86328 rows x 4 columns]"
      ]
     },
     "execution_count": 22,
     "metadata": {},
     "output_type": "execute_result"
    }
   ],
   "source": [
    "train = shuffle(train)\n",
    "train"
   ]
  },
  {
   "cell_type": "markdown",
   "metadata": {
    "papermill": {
     "duration": 0.251829,
     "end_time": "2021-02-10T13:29:41.341410",
     "exception": false,
     "start_time": "2021-02-10T13:29:41.089581",
     "status": "completed"
    },
    "tags": []
   },
   "source": [
    "# checking final train set and validation set distribution"
   ]
  },
  {
   "cell_type": "code",
   "execution_count": 23,
   "metadata": {
    "execution": {
     "iopub.execute_input": "2021-02-10T13:29:41.855180Z",
     "iopub.status.busy": "2021-02-10T13:29:41.850711Z",
     "iopub.status.idle": "2021-02-10T13:29:42.012888Z",
     "shell.execute_reply": "2021-02-10T13:29:42.013405Z"
    },
    "papermill": {
     "duration": 0.418922,
     "end_time": "2021-02-10T13:29:42.013581",
     "exception": false,
     "start_time": "2021-02-10T13:29:41.594659",
     "status": "completed"
    },
    "tags": []
   },
   "outputs": [
    {
     "data": {
      "image/png": "[encoded data removed]",
      "text/plain": [
       "<Figure size 720x360 with 1 Axes>"
      ]
     },
     "metadata": {
      "needs_background": "light"
     },
     "output_type": "display_data"
    }
   ],
   "source": [
    "\n",
    "plt.figure(figsize=(10, 5))\n",
    "sns.countplot(train['sentiment'])\n",
    "plt.title('Target on training data')\n",
    "\n",
    "plt.show()"
   ]
  },
  {
   "cell_type": "code",
   "execution_count": 24,
   "metadata": {
    "execution": {
     "iopub.execute_input": "2021-02-10T13:29:42.528701Z",
     "iopub.status.busy": "2021-02-10T13:29:42.527932Z",
     "iopub.status.idle": "2021-02-10T13:29:42.646685Z",
     "shell.execute_reply": "2021-02-10T13:29:42.647244Z"
    },
    "papermill": {
     "duration": 0.38231,
     "end_time": "2021-02-10T13:29:42.647444",
     "exception": false,
     "start_time": "2021-02-10T13:29:42.265134",
     "status": "completed"
    },
    "tags": []
   },
   "outputs": [
    {
     "data": {
      "image/png": "[encoded data removed]",
      "text/plain": [
       "<Figure size 720x360 with 1 Axes>"
      ]
     },
     "metadata": {
      "needs_background": "light"
     },
     "output_type": "display_data"
    }
   ],
   "source": [
    "plt.figure(figsize=(10, 5))\n",
    "sns.countplot(val['sentiment'])\n",
    "plt.title('Target on validation data')\n",
    "\n",
    "plt.show()"
   ]
  },
  {
   "cell_type": "markdown",
   "metadata": {
    "papermill": {
     "duration": 0.253994,
     "end_time": "2021-02-10T13:29:43.156806",
     "exception": false,
     "start_time": "2021-02-10T13:29:42.902812",
     "status": "completed"
    },
    "tags": []
   },
   "source": [
    "# configure_tpu_version to match the current version of installed tensorflow"
   ]
  },
  {
   "cell_type": "code",
   "execution_count": 25,
   "metadata": {
    "execution": {
     "iopub.execute_input": "2021-02-10T13:29:43.669683Z",
     "iopub.status.busy": "2021-02-10T13:29:43.668891Z",
     "iopub.status.idle": "2021-02-10T13:30:02.740305Z",
     "shell.execute_reply": "2021-02-10T13:30:02.739706Z"
    },
    "papermill": {
     "duration": 19.330494,
     "end_time": "2021-02-10T13:30:02.740502",
     "exception": false,
     "start_time": "2021-02-10T13:29:43.410008",
     "status": "completed"
    },
    "tags": []
   },
   "outputs": [],
   "source": [
    "\n",
    "\n",
    "Client().configure_tpu_version(tf.__version__, restart_type='ifNeeded')"
   ]
  },
  {
   "cell_type": "markdown",
   "metadata": {
    "papermill": {
     "duration": 0.253205,
     "end_time": "2021-02-10T13:30:03.266726",
     "exception": false,
     "start_time": "2021-02-10T13:30:03.013521",
     "status": "completed"
    },
    "tags": []
   },
   "source": [
    "# tensorflow TPU setting"
   ]
  },
  {
   "cell_type": "code",
   "execution_count": 26,
   "metadata": {
    "execution": {
     "iopub.execute_input": "2021-02-10T13:30:03.788946Z",
     "iopub.status.busy": "2021-02-10T13:30:03.786222Z",
     "iopub.status.idle": "2021-02-10T13:30:30.821908Z",
     "shell.execute_reply": "2021-02-10T13:30:30.822536Z"
    },
    "papermill": {
     "duration": 27.302609,
     "end_time": "2021-02-10T13:30:30.822738",
     "exception": false,
     "start_time": "2021-02-10T13:30:03.520129",
     "status": "completed"
    },
    "tags": []
   },
   "outputs": [
    {
     "name": "stdout",
     "output_type": "stream",
     "text": [
      "connecting to TPU...\n",
      "Running on TPU  grpc://10.0.0.2:8470\n",
      "initializing  TPU ...\n",
      "TPU initialized\n",
      "REPLICAS: 8\n"
     ]
    }
   ],
   "source": [
    "DEVICE = \"TPU\" #or \"GPU\"\n",
    "\n",
    "if DEVICE == \"TPU\":\n",
    "    print(\"connecting to TPU...\")\n",
    "    try:\n",
    "        tpu = tf.distribute.cluster_resolver.TPUClusterResolver()\n",
    "        print('Running on TPU ', tpu.master())\n",
    "    except ValueError:\n",
    "        print(\"Could not connect to TPU\")\n",
    "        tpu = None\n",
    "\n",
    "    if tpu:\n",
    "        try:\n",
    "            print(\"initializing  TPU ...\")\n",
    "            tf.config.experimental_connect_to_cluster(tpu)\n",
    "            tf.tpu.experimental.initialize_tpu_system(tpu)\n",
    "            strategy = tf.distribute.experimental.TPUStrategy(tpu)\n",
    "            print(\"TPU initialized\")\n",
    "        except _:\n",
    "            print(\"failed to initialize TPU\")\n",
    "    else:\n",
    "        DEVICE = \"GPU\"\n",
    "\n",
    "if DEVICE != \"TPU\":\n",
    "    print(\"Using default strategy for CPU and single GPU\")\n",
    "    strategy = tf.distribute.get_strategy()\n",
    "\n",
    "if DEVICE == \"GPU\":\n",
    "    print(\"Num GPUs Available: \", len(tf.config.experimental.list_physical_devices('GPU')))\n",
    "    \n",
    "\n",
    "AUTO     = tf.data.experimental.AUTOTUNE\n",
    "REPLICAS = strategy.num_replicas_in_sync\n",
    "BATCH_SIZE = 8 * strategy.num_replicas_in_sync\n",
    "print(f'REPLICAS: {REPLICAS}')"
   ]
  },
  {
   "cell_type": "markdown",
   "metadata": {
    "papermill": {
     "duration": 0.252001,
     "end_time": "2021-02-10T13:30:31.340608",
     "exception": false,
     "start_time": "2021-02-10T13:30:31.088607",
     "status": "completed"
    },
    "tags": []
   },
   "source": [
    "# The function below can be used as a callback for RoC Auc metric"
   ]
  },
  {
   "cell_type": "code",
   "execution_count": 27,
   "metadata": {
    "execution": {
     "iopub.execute_input": "2021-02-10T13:30:31.903579Z",
     "iopub.status.busy": "2021-02-10T13:30:31.902577Z",
     "iopub.status.idle": "2021-02-10T13:30:31.910239Z",
     "shell.execute_reply": "2021-02-10T13:30:31.910784Z"
    },
    "papermill": {
     "duration": 0.313388,
     "end_time": "2021-02-10T13:30:31.910990",
     "exception": false,
     "start_time": "2021-02-10T13:30:31.597602",
     "status": "completed"
    },
    "tags": []
   },
   "outputs": [],
   "source": [
    "class RocAucEvaluation(Callback):\n",
    "    def __init__(self, validation_data=(), interval=1):\n",
    "        super(Callback, self).__init__()\n",
    "\n",
    "        self.interval = interval\n",
    "        self.X_val, self.y_val = validation_data\n",
    "\n",
    "    def on_epoch_end(self, epoch, logs={}):\n",
    "        if epoch % self.interval == 0:\n",
    "            y_pred = self.model.predict(self.X_val, verbose=1)\n",
    "            score = roc_auc_score(self.y_val, y_pred)\n",
    "            print(\"\\n ROC-AUC - epoch: {:d} - score: {:.6f}\".format(epoch+1, score))"
   ]
  },
  {
   "cell_type": "markdown",
   "metadata": {
    "papermill": {
     "duration": 0.255594,
     "end_time": "2021-02-10T13:30:32.424011",
     "exception": false,
     "start_time": "2021-02-10T13:30:32.168417",
     "status": "completed"
    },
    "tags": []
   },
   "source": [
    "# Tokenize the input with chosen maxlen and with xlm roberta large tokenizer"
   ]
  },
  {
   "cell_type": "code",
   "execution_count": 28,
   "metadata": {
    "execution": {
     "iopub.execute_input": "2021-02-10T13:30:32.937312Z",
     "iopub.status.busy": "2021-02-10T13:30:32.936295Z",
     "iopub.status.idle": "2021-02-10T13:30:32.942165Z",
     "shell.execute_reply": "2021-02-10T13:30:32.942748Z"
    },
    "papermill": {
     "duration": 0.262262,
     "end_time": "2021-02-10T13:30:32.942955",
     "exception": false,
     "start_time": "2021-02-10T13:30:32.680693",
     "status": "completed"
    },
    "tags": []
   },
   "outputs": [],
   "source": [
    "def regular_encode(texts, tokenizer, maxlen=512):\n",
    "    enc_di = tokenizer.batch_encode_plus(\n",
    "        texts, \n",
    "        return_attention_mask=False, \n",
    "        return_token_type_ids=False,\n",
    "        pad_to_max_length=True,\n",
    "        max_length=maxlen\n",
    "    )\n",
    "    \n",
    "    return np.array(enc_di['input_ids'])"
   ]
  },
  {
   "cell_type": "markdown",
   "metadata": {
    "papermill": {
     "duration": 0.25173,
     "end_time": "2021-02-10T13:30:33.450528",
     "exception": false,
     "start_time": "2021-02-10T13:30:33.198798",
     "status": "completed"
    },
    "tags": []
   },
   "source": [
    "# chosing xlm roberta large with maxlen 224"
   ]
  },
  {
   "cell_type": "code",
   "execution_count": 29,
   "metadata": {
    "execution": {
     "iopub.execute_input": "2021-02-10T13:30:33.968735Z",
     "iopub.status.busy": "2021-02-10T13:30:33.967670Z",
     "iopub.status.idle": "2021-02-10T13:30:36.397694Z",
     "shell.execute_reply": "2021-02-10T13:30:36.397027Z"
    },
    "papermill": {
     "duration": 2.690296,
     "end_time": "2021-02-10T13:30:36.397885",
     "exception": false,
     "start_time": "2021-02-10T13:30:33.707589",
     "status": "completed"
    },
    "tags": []
   },
   "outputs": [
    {
     "data": {
      "application/vnd.jupyter.widget-view+json": {
       "model_id": "6af6c1dd98f746719b596178a699a74b",
       "version_major": 2,
       "version_minor": 0
      },
      "text/plain": [
       "Downloading:   0%|          | 0.00/513 [00:00<?, ?B/s]"
      ]
     },
     "metadata": {},
     "output_type": "display_data"
    },
    {
     "data": {
      "application/vnd.jupyter.widget-view+json": {
       "model_id": "ffcd8dd21b744a708a835383f56c8610",
       "version_major": 2,
       "version_minor": 0
      },
      "text/plain": [
       "Downloading:   0%|          | 0.00/5.07M [00:00<?, ?B/s]"
      ]
     },
     "metadata": {},
     "output_type": "display_data"
    },
    {
     "data": {
      "text/plain": [
       "('/kaggle/working/xlmr_large/tokenizer_config.json',\n",
       " '/kaggle/working/xlmr_large/special_tokens_map.json',\n",
       " '/kaggle/working/xlmr_large/sentencepiece.bpe.model',\n",
       " '/kaggle/working/xlmr_large/added_tokens.json')"
      ]
     },
     "execution_count": 29,
     "metadata": {},
     "output_type": "execute_result"
    }
   ],
   "source": [
    "MODEL = 'jplu/tf-xlm-roberta-large'\n",
    "maxlen = 224\n",
    "# First load the real tokenizer\n",
    "tokenizer = AutoTokenizer.from_pretrained(MODEL)\n",
    "\n",
    "save_path = '/kaggle/working/xlmr_large/'\n",
    "if not os.path.exists(save_path):\n",
    "    os.makedirs(save_path)\n",
    "tokenizer.save_pretrained(save_path)"
   ]
  },
  {
   "cell_type": "markdown",
   "metadata": {
    "papermill": {
     "duration": 0.256547,
     "end_time": "2021-02-10T13:30:36.923459",
     "exception": false,
     "start_time": "2021-02-10T13:30:36.666912",
     "status": "completed"
    },
    "tags": []
   },
   "source": [
    "# Encoding the train and validation dataset"
   ]
  },
  {
   "cell_type": "code",
   "execution_count": 30,
   "metadata": {
    "execution": {
     "iopub.execute_input": "2021-02-10T13:30:37.448937Z",
     "iopub.status.busy": "2021-02-10T13:30:37.448184Z",
     "iopub.status.idle": "2021-02-10T13:30:53.922833Z",
     "shell.execute_reply": "2021-02-10T13:30:53.922143Z"
    },
    "papermill": {
     "duration": 16.744828,
     "end_time": "2021-02-10T13:30:53.922995",
     "exception": false,
     "start_time": "2021-02-10T13:30:37.178167",
     "status": "completed"
    },
    "tags": []
   },
   "outputs": [
    {
     "name": "stderr",
     "output_type": "stream",
     "text": [
      "Truncation was not explicitly activated but `max_length` is provided a specific value, please use `truncation=True` to explicitly truncate examples to max length. Defaulting to 'longest_first' truncation strategy. If you encode pairs of sequences (GLUE-style) with the tokenizer you can select this strategy more precisely by providing a specific strategy to `truncation`.\n"
     ]
    },
    {
     "name": "stdout",
     "output_type": "stream",
     "text": [
      "CPU times: user 16.3 s, sys: 236 ms, total: 16.5 s\n",
      "Wall time: 16.5 s\n"
     ]
    }
   ],
   "source": [
    "%%time\n",
    "\n",
    "x_train = regular_encode(train.text.astype(str), \n",
    "                      tokenizer, maxlen=maxlen)\n",
    "\n",
    "x_valid = regular_encode(val.text.astype(str).values, \n",
    "                      tokenizer, maxlen=maxlen)\n",
    "\n",
    "\n",
    "y_valid = val.sentiment.values\n",
    "y_train = train.sentiment.values"
   ]
  },
  {
   "cell_type": "code",
   "execution_count": 31,
   "metadata": {
    "execution": {
     "iopub.execute_input": "2021-02-10T13:30:54.439654Z",
     "iopub.status.busy": "2021-02-10T13:30:54.439005Z",
     "iopub.status.idle": "2021-02-10T13:30:54.443715Z",
     "shell.execute_reply": "2021-02-10T13:30:54.443025Z"
    },
    "papermill": {
     "duration": 0.26558,
     "end_time": "2021-02-10T13:30:54.443861",
     "exception": false,
     "start_time": "2021-02-10T13:30:54.178281",
     "status": "completed"
    },
    "tags": []
   },
   "outputs": [
    {
     "data": {
      "text/plain": [
       "(86328, 224)"
      ]
     },
     "execution_count": 31,
     "metadata": {},
     "output_type": "execute_result"
    }
   ],
   "source": [
    "x_train.shape"
   ]
  },
  {
   "cell_type": "code",
   "execution_count": 32,
   "metadata": {
    "execution": {
     "iopub.execute_input": "2021-02-10T13:30:54.967267Z",
     "iopub.status.busy": "2021-02-10T13:30:54.966439Z",
     "iopub.status.idle": "2021-02-10T13:30:54.973432Z",
     "shell.execute_reply": "2021-02-10T13:30:54.972795Z"
    },
    "papermill": {
     "duration": 0.268746,
     "end_time": "2021-02-10T13:30:54.973586",
     "exception": false,
     "start_time": "2021-02-10T13:30:54.704840",
     "status": "completed"
    },
    "tags": []
   },
   "outputs": [
    {
     "data": {
      "text/plain": [
       "(86328,)"
      ]
     },
     "execution_count": 32,
     "metadata": {},
     "output_type": "execute_result"
    }
   ],
   "source": [
    "y_train.shape"
   ]
  },
  {
   "cell_type": "code",
   "execution_count": 33,
   "metadata": {
    "execution": {
     "iopub.execute_input": "2021-02-10T13:30:55.495187Z",
     "iopub.status.busy": "2021-02-10T13:30:55.494470Z",
     "iopub.status.idle": "2021-02-10T13:30:55.536173Z",
     "shell.execute_reply": "2021-02-10T13:30:55.535552Z"
    },
    "papermill": {
     "duration": 0.302302,
     "end_time": "2021-02-10T13:30:55.536332",
     "exception": false,
     "start_time": "2021-02-10T13:30:55.234030",
     "status": "completed"
    },
    "tags": []
   },
   "outputs": [],
   "source": [
    "x_train = np.asarray(x_train).astype(np.float32)"
   ]
  },
  {
   "cell_type": "code",
   "execution_count": 34,
   "metadata": {
    "execution": {
     "iopub.execute_input": "2021-02-10T13:30:56.058759Z",
     "iopub.status.busy": "2021-02-10T13:30:56.058022Z",
     "iopub.status.idle": "2021-02-10T13:30:56.062301Z",
     "shell.execute_reply": "2021-02-10T13:30:56.061663Z"
    },
    "papermill": {
     "duration": 0.26851,
     "end_time": "2021-02-10T13:30:56.062467",
     "exception": false,
     "start_time": "2021-02-10T13:30:55.793957",
     "status": "completed"
    },
    "tags": []
   },
   "outputs": [],
   "source": [
    "y_train = np.asarray(y_train).astype(np.float32)"
   ]
  },
  {
   "cell_type": "markdown",
   "metadata": {
    "papermill": {
     "duration": 0.261633,
     "end_time": "2021-02-10T13:30:56.579621",
     "exception": false,
     "start_time": "2021-02-10T13:30:56.317988",
     "status": "completed"
    },
    "tags": []
   },
   "source": [
    "# creating tf dataset with tf.data api"
   ]
  },
  {
   "cell_type": "code",
   "execution_count": 35,
   "metadata": {
    "execution": {
     "iopub.execute_input": "2021-02-10T13:30:57.264249Z",
     "iopub.status.busy": "2021-02-10T13:30:57.262191Z",
     "iopub.status.idle": "2021-02-10T13:30:57.456547Z",
     "shell.execute_reply": "2021-02-10T13:30:57.455585Z"
    },
    "papermill": {
     "duration": 0.614342,
     "end_time": "2021-02-10T13:30:57.456728",
     "exception": false,
     "start_time": "2021-02-10T13:30:56.842386",
     "status": "completed"
    },
    "tags": []
   },
   "outputs": [
    {
     "name": "stdout",
     "output_type": "stream",
     "text": [
      "CPU times: user 59.6 ms, sys: 144 ms, total: 203 ms\n",
      "Wall time: 345 ms\n"
     ]
    }
   ],
   "source": [
    "%%time\n",
    "train_dataset = (\n",
    "    tf.data.Dataset\n",
    "    .from_tensor_slices((x_train, y_train))\n",
    "    .repeat()\n",
    "    .shuffle(2048)\n",
    "    .batch(BATCH_SIZE)\n",
    "    .prefetch(AUTO)\n",
    ")"
   ]
  },
  {
   "cell_type": "code",
   "execution_count": 36,
   "metadata": {
    "execution": {
     "iopub.execute_input": "2021-02-10T13:30:57.976019Z",
     "iopub.status.busy": "2021-02-10T13:30:57.975013Z",
     "iopub.status.idle": "2021-02-10T13:30:57.981578Z",
     "shell.execute_reply": "2021-02-10T13:30:57.980992Z"
    },
    "papermill": {
     "duration": 0.267162,
     "end_time": "2021-02-10T13:30:57.981739",
     "exception": false,
     "start_time": "2021-02-10T13:30:57.714577",
     "status": "completed"
    },
    "tags": []
   },
   "outputs": [],
   "source": [
    "x_valid = np.asarray(x_valid).astype(np.float32)\n",
    "y_valid = np.asarray(y_valid).astype(np.float32)"
   ]
  },
  {
   "cell_type": "code",
   "execution_count": 37,
   "metadata": {
    "execution": {
     "iopub.execute_input": "2021-02-10T13:30:58.501981Z",
     "iopub.status.busy": "2021-02-10T13:30:58.500898Z",
     "iopub.status.idle": "2021-02-10T13:30:58.508615Z",
     "shell.execute_reply": "2021-02-10T13:30:58.507862Z"
    },
    "papermill": {
     "duration": 0.270613,
     "end_time": "2021-02-10T13:30:58.508770",
     "exception": false,
     "start_time": "2021-02-10T13:30:58.238157",
     "status": "completed"
    },
    "tags": []
   },
   "outputs": [
    {
     "name": "stdout",
     "output_type": "stream",
     "text": [
      "CPU times: user 3.09 ms, sys: 3.96 ms, total: 7.05 ms\n",
      "Wall time: 6.14 ms\n"
     ]
    }
   ],
   "source": [
    "%%time\n",
    "valid_dataset = (\n",
    "    tf.data.Dataset\n",
    "    .from_tensor_slices((x_valid, y_valid))\n",
    "    .batch(BATCH_SIZE)\n",
    "    .cache()\n",
    "    .prefetch(AUTO)\n",
    ")"
   ]
  },
  {
   "cell_type": "markdown",
   "metadata": {
    "papermill": {
     "duration": 0.254648,
     "end_time": "2021-02-10T13:30:59.022538",
     "exception": false,
     "start_time": "2021-02-10T13:30:58.767890",
     "status": "completed"
    },
    "tags": []
   },
   "source": [
    "# using focal loss as loss function for highly imbalance dataset"
   ]
  },
  {
   "cell_type": "code",
   "execution_count": 38,
   "metadata": {
    "execution": {
     "iopub.execute_input": "2021-02-10T13:30:59.673782Z",
     "iopub.status.busy": "2021-02-10T13:30:59.673040Z",
     "iopub.status.idle": "2021-02-10T13:30:59.677082Z",
     "shell.execute_reply": "2021-02-10T13:30:59.676321Z"
    },
    "papermill": {
     "duration": 0.401235,
     "end_time": "2021-02-10T13:30:59.677237",
     "exception": false,
     "start_time": "2021-02-10T13:30:59.276002",
     "status": "completed"
    },
    "tags": []
   },
   "outputs": [],
   "source": [
    "\n",
    "\n",
    "def focal_loss(gamma=2., alpha=.2):\n",
    "    def focal_loss_fixed(y_true, y_pred):\n",
    "        pt_1 = tf.where(tf.equal(y_true, 1), y_pred, tf.ones_like(y_pred))\n",
    "        pt_0 = tf.where(tf.equal(y_true, 0), y_pred, tf.zeros_like(y_pred))\n",
    "        return -K.mean(alpha * K.pow(1. - pt_1, gamma) * K.log(pt_1)) - K.mean((1 - alpha) * K.pow(pt_0, gamma) * K.log(1. - pt_0))\n",
    "    return focal_loss_fixed"
   ]
  },
  {
   "cell_type": "markdown",
   "metadata": {
    "papermill": {
     "duration": 0.259041,
     "end_time": "2021-02-10T13:31:00.202356",
     "exception": false,
     "start_time": "2021-02-10T13:30:59.943315",
     "status": "completed"
    },
    "tags": []
   },
   "source": [
    "# installing radam(only use it when you think it is necessary)"
   ]
  },
  {
   "cell_type": "code",
   "execution_count": 39,
   "metadata": {
    "_kg_hide-output": true,
    "execution": {
     "iopub.execute_input": "2021-02-10T13:31:00.738143Z",
     "iopub.status.busy": "2021-02-10T13:31:00.726934Z",
     "iopub.status.idle": "2021-02-10T13:31:09.439275Z",
     "shell.execute_reply": "2021-02-10T13:31:09.440877Z"
    },
    "papermill": {
     "duration": 8.978733,
     "end_time": "2021-02-10T13:31:09.441077",
     "exception": false,
     "start_time": "2021-02-10T13:31:00.462344",
     "status": "completed"
    },
    "tags": []
   },
   "outputs": [
    {
     "name": "stdout",
     "output_type": "stream",
     "text": [
      "Collecting keras-rectified-adam\r\n",
      "  Downloading keras-rectified-adam-0.17.0.tar.gz (11 kB)\r\n",
      "Requirement already satisfied: numpy in /opt/conda/lib/python3.7/site-packages (from keras-rectified-adam) (1.19.5)\r\n",
      "Requirement already satisfied: Keras in /opt/conda/lib/python3.7/site-packages (from keras-rectified-adam) (2.4.3)\r\n",
      "Requirement already satisfied: scipy>=0.14 in /opt/conda/lib/python3.7/site-packages (from Keras->keras-rectified-adam) (1.4.1)\r\n",
      "Requirement already satisfied: pyyaml in /opt/conda/lib/python3.7/site-packages (from Keras->keras-rectified-adam) (5.3.1)\r\n",
      "Requirement already satisfied: h5py in /opt/conda/lib/python3.7/site-packages (from Keras->keras-rectified-adam) (2.10.0)\r\n",
      "Requirement already satisfied: six in /opt/conda/lib/python3.7/site-packages (from h5py->Keras->keras-rectified-adam) (1.15.0)\r\n",
      "Building wheels for collected packages: keras-rectified-adam\r\n",
      "  Building wheel for keras-rectified-adam (setup.py) ... \u001b[?25l-\b \b\\\b \bdone\r\n",
      "\u001b[?25h  Created wheel for keras-rectified-adam: filename=keras_rectified_adam-0.17.0-py3-none-any.whl size=14783 sha256=a4873f0922b845dee70bbcbb2d457acf9b2860f9031c1cdcb71c303ee43f0f1b\r\n",
      "  Stored in directory: /root/.cache/pip/wheels/03/fe/53/b031c02fbfa410196b50e4bb70aaefb052b81371c5428dc8c0\r\n",
      "Successfully built keras-rectified-adam\r\n",
      "Installing collected packages: keras-rectified-adam\r\n",
      "Successfully installed keras-rectified-adam-0.17.0\r\n",
      "\u001b[33mWARNING: You are using pip version 21.0; however, version 21.0.1 is available.\r\n",
      "You should consider upgrading via the '/opt/conda/bin/python -m pip install --upgrade pip' command.\u001b[0m\r\n",
      "Note: you may need to restart the kernel to use updated packages.\n"
     ]
    }
   ],
   "source": [
    "pip install keras-rectified-adam"
   ]
  },
  {
   "cell_type": "markdown",
   "metadata": {
    "papermill": {
     "duration": 0.262648,
     "end_time": "2021-02-10T13:31:09.964641",
     "exception": false,
     "start_time": "2021-02-10T13:31:09.701993",
     "status": "completed"
    },
    "tags": []
   },
   "source": [
    "# build_model function will load our model(in this case,xlm roberta large)"
   ]
  },
  {
   "cell_type": "code",
   "execution_count": 40,
   "metadata": {
    "execution": {
     "iopub.execute_input": "2021-02-10T13:31:10.502538Z",
     "iopub.status.busy": "2021-02-10T13:31:10.501524Z",
     "iopub.status.idle": "2021-02-10T13:31:10.513069Z",
     "shell.execute_reply": "2021-02-10T13:31:10.512418Z"
    },
    "papermill": {
     "duration": 0.287778,
     "end_time": "2021-02-10T13:31:10.513277",
     "exception": false,
     "start_time": "2021-02-10T13:31:10.225499",
     "status": "completed"
    },
    "tags": []
   },
   "outputs": [],
   "source": [
    "from keras_radam import RAdam\n",
    "def build_model(transformer, loss='binary_crossentropy', max_len=512):\n",
    "    input_word_ids = Input(shape=(max_len,), dtype=tf.int32, name=\"input_word_ids\")\n",
    "    sequence_output = transformer(input_word_ids)[0]\n",
    "    cls_token = sequence_output[:, 0, :]\n",
    "    x = tf.keras.layers.Dropout(0.3)(cls_token)\n",
    "    out = Dense(1, activation='sigmoid')(cls_token)\n",
    "    \n",
    "    \n",
    "    model = Model(inputs=input_word_ids, outputs=out)\n",
    "    model.compile(tf.keras.optimizers.Adam(), loss=loss, metrics=[tf.keras.metrics.AUC()])\n",
    "    \n",
    "    return model"
   ]
  },
  {
   "cell_type": "markdown",
   "metadata": {
    "papermill": {
     "duration": 0.260136,
     "end_time": "2021-02-10T13:31:11.040356",
     "exception": false,
     "start_time": "2021-02-10T13:31:10.780220",
     "status": "completed"
    },
    "tags": []
   },
   "source": [
    "# calling build_model function to load our model for fine tuning"
   ]
  },
  {
   "cell_type": "code",
   "execution_count": 41,
   "metadata": {
    "execution": {
     "iopub.execute_input": "2021-02-10T13:31:11.667819Z",
     "iopub.status.busy": "2021-02-10T13:31:11.665237Z",
     "iopub.status.idle": "2021-02-10T13:33:38.482471Z",
     "shell.execute_reply": "2021-02-10T13:33:38.481751Z"
    },
    "papermill": {
     "duration": 147.114176,
     "end_time": "2021-02-10T13:33:38.482655",
     "exception": false,
     "start_time": "2021-02-10T13:31:11.368479",
     "status": "completed"
    },
    "tags": []
   },
   "outputs": [
    {
     "data": {
      "application/vnd.jupyter.widget-view+json": {
       "model_id": "4c13f46424424b4780432bd1d44bb924",
       "version_major": 2,
       "version_minor": 0
      },
      "text/plain": [
       "Downloading:   0%|          | 0.00/3.27G [00:00<?, ?B/s]"
      ]
     },
     "metadata": {},
     "output_type": "display_data"
    },
    {
     "name": "stderr",
     "output_type": "stream",
     "text": [
      "Some layers from the model checkpoint at jplu/tf-xlm-roberta-large were not used when initializing TFXLMRobertaModel: ['lm_head']\n",
      "- This IS expected if you are initializing TFXLMRobertaModel from the checkpoint of a model trained on another task or with another architecture (e.g. initializing a BertForSequenceClassification model from a BertForPreTraining model).\n",
      "- This IS NOT expected if you are initializing TFXLMRobertaModel from the checkpoint of a model that you expect to be exactly identical (initializing a BertForSequenceClassification model from a BertForSequenceClassification model).\n",
      "All the layers of TFXLMRobertaModel were initialized from the model checkpoint at jplu/tf-xlm-roberta-large.\n",
      "If your task is similar to the task the model of the checkpoint was trained on, you can already use TFXLMRobertaModel for predictions without further training.\n"
     ]
    },
    {
     "name": "stdout",
     "output_type": "stream",
     "text": [
      "Model: \"model\"\n",
      "_________________________________________________________________\n",
      "Layer (type)                 Output Shape              Param #   \n",
      "=================================================================\n",
      "input_word_ids (InputLayer)  [(None, 224)]             0         \n",
      "_________________________________________________________________\n",
      "tfxlm_roberta_model (TFXLMRo ((None, 224, 1024), (None 559890432 \n",
      "_________________________________________________________________\n",
      "tf_op_layer_strided_slice (T [(None, 1024)]            0         \n",
      "_________________________________________________________________\n",
      "dense (Dense)                (None, 1)                 1025      \n",
      "=================================================================\n",
      "Total params: 559,891,457\n",
      "Trainable params: 559,891,457\n",
      "Non-trainable params: 0\n",
      "_________________________________________________________________\n",
      "CPU times: user 1min 48s, sys: 40.7 s, total: 2min 29s\n",
      "Wall time: 2min 26s\n"
     ]
    }
   ],
   "source": [
    "%%time\n",
    "with strategy.scope():\n",
    "    transformer_layer = transformers.TFXLMRobertaModel.from_pretrained(MODEL)\n",
    "    model = build_model(transformer_layer, max_len=maxlen)\n",
    "model.summary()"
   ]
  },
  {
   "cell_type": "markdown",
   "metadata": {
    "papermill": {
     "duration": 0.273844,
     "end_time": "2021-02-10T13:33:39.079260",
     "exception": false,
     "start_time": "2021-02-10T13:33:38.805416",
     "status": "completed"
    },
    "tags": []
   },
   "source": [
    "# callback function uses ReduceLROnPlateau scheduler by monitoring validation loss and with patience of 2,after every 2 epoch if no improvement can be found in terms of validation lose,means the scheduler will reduce the learning rate by 0.3 factor"
   ]
  },
  {
   "cell_type": "code",
   "execution_count": 42,
   "metadata": {
    "execution": {
     "iopub.execute_input": "2021-02-10T13:33:39.619333Z",
     "iopub.status.busy": "2021-02-10T13:33:39.618347Z",
     "iopub.status.idle": "2021-02-10T13:33:39.622790Z",
     "shell.execute_reply": "2021-02-10T13:33:39.622232Z"
    },
    "papermill": {
     "duration": 0.279202,
     "end_time": "2021-02-10T13:33:39.622936",
     "exception": false,
     "start_time": "2021-02-10T13:33:39.343734",
     "status": "completed"
    },
    "tags": []
   },
   "outputs": [],
   "source": [
    "def callback():\n",
    "    cb = []\n",
    "\n",
    "    reduceLROnPlat = ReduceLROnPlateau(monitor='val_loss',  \n",
    "                                    factor=0.3, patience=2, \n",
    "                                    verbose=1, mode='auto', \n",
    "                                    epsilon=0.0001, cooldown=1, min_lr=0.000001)\n",
    "    cb.append(reduceLROnPlat)\n",
    "    log = CSVLogger('log.csv')\n",
    "    cb.append(log)\n",
    "\n",
    "    RocAuc = RocAucEvaluation(validation_data=(x_valid, y_valid), interval=1)\n",
    "    cb.append(RocAuc)\n",
    "    \n",
    "    return cb"
   ]
  },
  {
   "cell_type": "code",
   "execution_count": 43,
   "metadata": {
    "execution": {
     "iopub.execute_input": "2021-02-10T13:33:40.157142Z",
     "iopub.status.busy": "2021-02-10T13:33:40.156523Z",
     "iopub.status.idle": "2021-02-10T13:33:40.161271Z",
     "shell.execute_reply": "2021-02-10T13:33:40.160504Z"
    },
    "papermill": {
     "duration": 0.274403,
     "end_time": "2021-02-10T13:33:40.161445",
     "exception": false,
     "start_time": "2021-02-10T13:33:39.887042",
     "status": "completed"
    },
    "tags": []
   },
   "outputs": [],
   "source": [
    "#SVG(tf.keras.utils.model_to_dot(model, dpi=70).create(prog='dot', format='svg'))"
   ]
  },
  {
   "cell_type": "markdown",
   "metadata": {
    "papermill": {
     "duration": 0.269069,
     "end_time": "2021-02-10T13:33:40.695261",
     "exception": false,
     "start_time": "2021-02-10T13:33:40.426192",
     "status": "completed"
    },
    "tags": []
   },
   "source": [
    "# learning rate finder"
   ]
  },
  {
   "cell_type": "code",
   "execution_count": 44,
   "metadata": {
    "execution": {
     "iopub.execute_input": "2021-02-10T13:33:41.234046Z",
     "iopub.status.busy": "2021-02-10T13:33:41.233264Z",
     "iopub.status.idle": "2021-02-10T13:33:41.237241Z",
     "shell.execute_reply": "2021-02-10T13:33:41.236622Z"
    },
    "papermill": {
     "duration": 0.276131,
     "end_time": "2021-02-10T13:33:41.237412",
     "exception": false,
     "start_time": "2021-02-10T13:33:40.961281",
     "status": "completed"
    },
    "tags": []
   },
   "outputs": [],
   "source": [
    "def build_lrfn(lr_start=0.000001, lr_max=0.000002, \n",
    "               lr_min=0.0000001, lr_rampup_epochs=7, \n",
    "               lr_sustain_epochs=0, lr_exp_decay=.87):\n",
    "    lr_max = lr_max * strategy.num_replicas_in_sync\n",
    "\n",
    "    def lrfn(epoch):\n",
    "        if epoch < lr_rampup_epochs:\n",
    "            lr = (lr_max - lr_start) / lr_rampup_epochs * epoch + lr_start\n",
    "        elif epoch < lr_rampup_epochs + lr_sustain_epochs:\n",
    "            lr = lr_max\n",
    "        else:\n",
    "            lr = (lr_max - lr_min) * lr_exp_decay**(epoch - lr_rampup_epochs - lr_sustain_epochs) + lr_min\n",
    "        return lr\n",
    "    \n",
    "    return lrfn"
   ]
  },
  {
   "cell_type": "markdown",
   "metadata": {
    "papermill": {
     "duration": 0.273001,
     "end_time": "2021-02-10T13:33:41.774731",
     "exception": false,
     "start_time": "2021-02-10T13:33:41.501730",
     "status": "completed"
    },
    "tags": []
   },
   "source": [
    "# plot learning rate finder"
   ]
  },
  {
   "cell_type": "code",
   "execution_count": 45,
   "metadata": {
    "execution": {
     "iopub.execute_input": "2021-02-10T13:33:42.346837Z",
     "iopub.status.busy": "2021-02-10T13:33:42.338219Z",
     "iopub.status.idle": "2021-02-10T13:33:42.518746Z",
     "shell.execute_reply": "2021-02-10T13:33:42.518142Z"
    },
    "papermill": {
     "duration": 0.471329,
     "end_time": "2021-02-10T13:33:42.518897",
     "exception": false,
     "start_time": "2021-02-10T13:33:42.047568",
     "status": "completed"
    },
    "tags": []
   },
   "outputs": [
    {
     "data": {
      "image/png": "[encoded data removed]",
      "text/plain": [
       "<Figure size 720x504 with 1 Axes>"
      ]
     },
     "metadata": {
      "needs_background": "light"
     },
     "output_type": "display_data"
    }
   ],
   "source": [
    "\n",
    "\n",
    "plt.figure(figsize=(10, 7))\n",
    "\n",
    "lrfn = build_lrfn()\n",
    "plt.plot([i for i in range(35)], [lrfn(i) for i in range(35)]);"
   ]
  },
  {
   "cell_type": "code",
   "execution_count": 46,
   "metadata": {
    "execution": {
     "iopub.execute_input": "2021-02-10T13:33:43.067983Z",
     "iopub.status.busy": "2021-02-10T13:33:43.067186Z",
     "iopub.status.idle": "2021-02-10T13:33:43.070270Z",
     "shell.execute_reply": "2021-02-10T13:33:43.069750Z"
    },
    "papermill": {
     "duration": 0.280908,
     "end_time": "2021-02-10T13:33:43.070434",
     "exception": false,
     "start_time": "2021-02-10T13:33:42.789526",
     "status": "completed"
    },
    "tags": []
   },
   "outputs": [],
   "source": [
    "model_path = 'banglishsentiment.hdf5'\n"
   ]
  },
  {
   "cell_type": "markdown",
   "metadata": {
    "papermill": {
     "duration": 0.271952,
     "end_time": "2021-02-10T13:33:43.612396",
     "exception": false,
     "start_time": "2021-02-10T13:33:43.340444",
     "status": "completed"
    },
    "tags": []
   },
   "source": [
    "# ModelCheckpoint callback will monitor validation accuracy and safe best weights based on best validation accuracy and  lr_callback will use our LearningRateScheduler "
   ]
  },
  {
   "cell_type": "code",
   "execution_count": 47,
   "metadata": {
    "execution": {
     "iopub.execute_input": "2021-02-10T13:33:44.282056Z",
     "iopub.status.busy": "2021-02-10T13:33:44.281392Z",
     "iopub.status.idle": "2021-02-10T13:33:44.285115Z",
     "shell.execute_reply": "2021-02-10T13:33:44.284576Z"
    },
    "papermill": {
     "duration": 0.399484,
     "end_time": "2021-02-10T13:33:44.285267",
     "exception": false,
     "start_time": "2021-02-10T13:33:43.885783",
     "status": "completed"
    },
    "tags": []
   },
   "outputs": [],
   "source": [
    "\n",
    "\n",
    "checkpoint = ModelCheckpoint(model_path, monitor='val_accuracy', mode='max', save_best_only=True,save_weights_only=True)\n",
    "\n",
    "es = EarlyStopping(monitor='val_accuracy', mode='max', patience=2, \n",
    "                   restore_best_weights=True, verbose=1)\n",
    "lr_callback = LearningRateScheduler(lrfn, verbose=1)\n",
    "\n",
    "callback_list = [checkpoint,  lr_callback]"
   ]
  },
  {
   "cell_type": "markdown",
   "metadata": {
    "papermill": {
     "duration": 0.268782,
     "end_time": "2021-02-10T13:33:44.825536",
     "exception": false,
     "start_time": "2021-02-10T13:33:44.556754",
     "status": "completed"
    },
    "tags": []
   },
   "source": [
    "# fine tuning the xlm roberta large for 20 epochs and saving weights based on best validation accuracy"
   ]
  },
  {
   "cell_type": "code",
   "execution_count": 48,
   "metadata": {
    "execution": {
     "iopub.execute_input": "2021-02-10T13:33:45.368050Z",
     "iopub.status.busy": "2021-02-10T13:33:45.367357Z",
     "iopub.status.idle": "2021-02-10T16:00:23.139403Z",
     "shell.execute_reply": "2021-02-10T16:00:23.139992Z"
    },
    "papermill": {
     "duration": 8798.045997,
     "end_time": "2021-02-10T16:00:23.140254",
     "exception": false,
     "start_time": "2021-02-10T13:33:45.094257",
     "status": "completed"
    },
    "tags": []
   },
   "outputs": [
    {
     "name": "stdout",
     "output_type": "stream",
     "text": [
      "\n",
      "Epoch 00001: LearningRateScheduler reducing learning rate to 1e-06.\n",
      "Epoch 1/20\n",
      "1348/1348 [==============================] - 476s 353ms/step - loss: 0.7349 - auc: 0.5336 - val_loss: 0.8007 - val_auc: 0.5279 - lr: 1.0000e-06\n",
      "\n",
      "Epoch 00002: LearningRateScheduler reducing learning rate to 3.142857142857143e-06.\n",
      "Epoch 2/20\n",
      "1348/1348 [==============================] - 426s 316ms/step - loss: 0.5136 - auc: 0.8193 - val_loss: 0.5528 - val_auc: 0.7527 - lr: 3.1429e-06\n",
      "\n",
      "Epoch 00003: LearningRateScheduler reducing learning rate to 5.285714285714285e-06.\n",
      "Epoch 3/20\n",
      "1348/1348 [==============================] - 426s 316ms/step - loss: 0.3200 - auc: 0.9359 - val_loss: 0.4735 - val_auc: 0.8353 - lr: 5.2857e-06\n",
      "\n",
      "Epoch 00004: LearningRateScheduler reducing learning rate to 7.4285714285714275e-06.\n",
      "Epoch 4/20\n",
      "1348/1348 [==============================] - 426s 316ms/step - loss: 0.2606 - auc: 0.9579 - val_loss: 0.4155 - val_auc: 0.8811 - lr: 7.4286e-06\n",
      "\n",
      "Epoch 00005: LearningRateScheduler reducing learning rate to 9.571428571428572e-06.\n",
      "Epoch 5/20\n",
      "1348/1348 [==============================] - 426s 316ms/step - loss: 0.2337 - auc: 0.9661 - val_loss: 0.5485 - val_auc: 0.7820 - lr: 9.5714e-06\n",
      "\n",
      "Epoch 00006: LearningRateScheduler reducing learning rate to 1.1714285714285715e-05.\n",
      "Epoch 6/20\n",
      "1348/1348 [==============================] - 426s 316ms/step - loss: 0.2024 - auc: 0.9746 - val_loss: 0.3675 - val_auc: 0.9120 - lr: 1.1714e-05\n",
      "\n",
      "Epoch 00007: LearningRateScheduler reducing learning rate to 1.3857142857142856e-05.\n",
      "Epoch 7/20\n",
      "1348/1348 [==============================] - 426s 316ms/step - loss: 0.2168 - auc: 0.9708 - val_loss: 0.3386 - val_auc: 0.9232 - lr: 1.3857e-05\n",
      "\n",
      "Epoch 00008: LearningRateScheduler reducing learning rate to 1.6e-05.\n",
      "Epoch 8/20\n",
      "1348/1348 [==============================] - 426s 316ms/step - loss: 0.1741 - auc: 0.9812 - val_loss: 0.3000 - val_auc: 0.9395 - lr: 1.6000e-05\n",
      "\n",
      "Epoch 00009: LearningRateScheduler reducing learning rate to 1.3933e-05.\n",
      "Epoch 9/20\n",
      "1348/1348 [==============================] - 426s 316ms/step - loss: 0.1407 - auc: 0.9875 - val_loss: 0.2702 - val_auc: 0.9526 - lr: 1.3933e-05\n",
      "\n",
      "Epoch 00010: LearningRateScheduler reducing learning rate to 1.2134710000000002e-05.\n",
      "Epoch 10/20\n",
      "1348/1348 [==============================] - 425s 316ms/step - loss: 0.1133 - auc: 0.9918 - val_loss: 0.2285 - val_auc: 0.9663 - lr: 1.2135e-05\n",
      "\n",
      "Epoch 00011: LearningRateScheduler reducing learning rate to 1.05701977e-05.\n",
      "Epoch 11/20\n",
      "1348/1348 [==============================] - 426s 316ms/step - loss: 0.0887 - auc: 0.9948 - val_loss: 0.1717 - val_auc: 0.9756 - lr: 1.0570e-05\n",
      "\n",
      "Epoch 00012: LearningRateScheduler reducing learning rate to 9.209071999e-06.\n",
      "Epoch 12/20\n",
      "1348/1348 [==============================] - 426s 316ms/step - loss: 0.0668 - auc: 0.9969 - val_loss: 0.1956 - val_auc: 0.9794 - lr: 9.2091e-06\n",
      "\n",
      "Epoch 00013: LearningRateScheduler reducing learning rate to 8.024892639130001e-06.\n",
      "Epoch 13/20\n",
      "1348/1348 [==============================] - 426s 316ms/step - loss: 0.0517 - auc: 0.9981 - val_loss: 0.1960 - val_auc: 0.9793 - lr: 8.0249e-06\n",
      "\n",
      "Epoch 00014: LearningRateScheduler reducing learning rate to 6.9946565960431e-06.\n",
      "Epoch 14/20\n",
      "1348/1348 [==============================] - 425s 316ms/step - loss: 0.0394 - auc: 0.9988 - val_loss: 0.1994 - val_auc: 0.9817 - lr: 6.9947e-06\n",
      "\n",
      "Epoch 00015: LearningRateScheduler reducing learning rate to 6.098351238557497e-06.\n",
      "Epoch 15/20\n",
      "1348/1348 [==============================] - 425s 316ms/step - loss: 0.0343 - auc: 0.9990 - val_loss: 0.1289 - val_auc: 0.9825 - lr: 6.0984e-06\n",
      "\n",
      "Epoch 00016: LearningRateScheduler reducing learning rate to 5.318565577545023e-06.\n",
      "Epoch 16/20\n",
      "1348/1348 [==============================] - 426s 316ms/step - loss: 0.0287 - auc: 0.9992 - val_loss: 0.1331 - val_auc: 0.9861 - lr: 5.3186e-06\n",
      "\n",
      "Epoch 00017: LearningRateScheduler reducing learning rate to 4.640152052464169e-06.\n",
      "Epoch 17/20\n",
      "1348/1348 [==============================] - 426s 316ms/step - loss: 0.0237 - auc: 0.9994 - val_loss: 0.1834 - val_auc: 0.9836 - lr: 4.6402e-06\n",
      "\n",
      "Epoch 00018: LearningRateScheduler reducing learning rate to 4.049932285643827e-06.\n",
      "Epoch 18/20\n",
      "1348/1348 [==============================] - 426s 316ms/step - loss: 0.0205 - auc: 0.9995 - val_loss: 0.1860 - val_auc: 0.9818 - lr: 4.0499e-06\n",
      "\n",
      "Epoch 00019: LearningRateScheduler reducing learning rate to 3.5364410885101295e-06.\n",
      "Epoch 19/20\n",
      "1348/1348 [==============================] - 428s 318ms/step - loss: 0.0166 - auc: 0.9997 - val_loss: 0.1809 - val_auc: 0.9804 - lr: 3.5364e-06\n",
      "\n",
      "Epoch 00020: LearningRateScheduler reducing learning rate to 3.089703747003813e-06.\n",
      "Epoch 20/20\n",
      "1348/1348 [==============================] - 430s 319ms/step - loss: 0.0159 - auc: 0.9997 - val_loss: 0.1854 - val_auc: 0.9792 - lr: 3.0897e-06\n",
      "CPU times: user 16min 4s, sys: 51.4 s, total: 16min 56s\n",
      "Wall time: 2h 26min 37s\n"
     ]
    }
   ],
   "source": [
    "%%time\n",
    "N_STEPS = x_train.shape[0] // BATCH_SIZE\n",
    "EPOCHS = 20\n",
    "train_history = model.fit(\n",
    "    train_dataset,\n",
    "    steps_per_epoch=N_STEPS,\n",
    "    validation_data=valid_dataset,\n",
    "    callbacks=callback_list,\n",
    "    epochs=EPOCHS\n",
    ")"
   ]
  },
  {
   "cell_type": "markdown",
   "metadata": {
    "papermill": {
     "duration": 8.865881,
     "end_time": "2021-02-10T16:00:41.017295",
     "exception": false,
     "start_time": "2021-02-10T16:00:32.151414",
     "status": "completed"
    },
    "tags": []
   },
   "source": [
    "**for more info,please check [Understanding cross lingual models](https://www.kaggle.com/mobassir/understanding-cross-lingual-models). all the necessary explanations and references can be found there,thank you**"
   ]
  },
  {
   "cell_type": "code",
   "execution_count": null,
   "metadata": {
    "papermill": {
     "duration": 8.605448,
     "end_time": "2021-02-10T16:00:58.178916",
     "exception": false,
     "start_time": "2021-02-10T16:00:49.573468",
     "status": "completed"
    },
    "tags": []
   },
   "outputs": [],
   "source": []
  }
 ],
 "metadata": {
  "kernelspec": {
   "display_name": "Python 3",
   "language": "python",
   "name": "python3"
  },
  "language_info": {
   "codemirror_mode": {
    "name": "ipython",
    "version": 3
   },
   "file_extension": ".py",
   "mimetype": "text/x-python",
   "name": "python",
   "nbconvert_exporter": "python",
   "pygments_lexer": "ipython3",
   "version": "3.7.9"
  },
  "papermill": {
   "default_parameters": {},
   "duration": 9215.076072,
   "end_time": "2021-02-10T16:01:13.222800",
   "environment_variables": {},
   "exception": null,
   "input_path": "__notebook__.ipynb",
   "output_path": "__notebook__.ipynb",
   "parameters": {},
   "start_time": "2021-02-10T13:27:38.146728",
   "version": "2.2.2"
  },
  "widgets": {
   "application/vnd.jupyter.widget-state+json": {
    "state": {
     "0951ca4aa5c145d59a24fc4b72082eb2": {
      "model_module": "@jupyter-widgets/controls",
      "model_module_version": "1.5.0",
      "model_name": "DescriptionStyleModel",
      "state": {
       "_model_module": "@jupyter-widgets/controls",
       "_model_module_version": "1.5.0",
       "_model_name": "DescriptionStyleModel",
       "_view_count": null,
       "_view_module": "@jupyter-widgets/base",
       "_view_module_version": "1.2.0",
       "_view_name": "StyleView",
       "description_width": ""
      }
     },
     "0a20fe114f5e4e21bd35ee0df5001038": {
      "model_module": "@jupyter-widgets/base",
      "model_module_version": "1.2.0",
      "model_name": "LayoutModel",
      "state": {
       "_model_module": "@jupyter-widgets/base",
       "_model_module_version": "1.2.0",
       "_model_name": "LayoutModel",
       "_view_count": null,
       "_view_module": "@jupyter-widgets/base",
       "_view_module_version": "1.2.0",
       "_view_name": "LayoutView",
       "align_content": null,
       "align_items": null,
       "align_self": null,
       "border": null,
       "bottom": null,
       "display": null,
       "flex": null,
       "flex_flow": null,
       "grid_area": null,
       "grid_auto_columns": null,
       "grid_auto_flow": null,
       "grid_auto_rows": null,
       "grid_column": null,
       "grid_gap": null,
       "grid_row": null,
       "grid_template_areas": null,
       "grid_template_columns": null,
       "grid_template_rows": null,
       "height": null,
       "justify_content": null,
       "justify_items": null,
       "left": null,
       "margin": null,
       "max_height": null,
       "max_width": null,
       "min_height": null,
       "min_width": null,
       "object_fit": null,
       "object_position": null,
       "order": null,
       "overflow": null,
       "overflow_x": null,
       "overflow_y": null,
       "padding": null,
       "right": null,
       "top": null,
       "visibility": null,
       "width": null
      }
     },
     "100a949460464c61b6305a4dd5e0dba7": {
      "model_module": "@jupyter-widgets/base",
      "model_module_version": "1.2.0",
      "model_name": "LayoutModel",
      "state": {
       "_model_module": "@jupyter-widgets/base",
       "_model_module_version": "1.2.0",
       "_model_name": "LayoutModel",
       "_view_count": null,
       "_view_module": "@jupyter-widgets/base",
       "_view_module_version": "1.2.0",
       "_view_name": "LayoutView",
       "align_content": null,
       "align_items": null,
       "align_self": null,
       "border": null,
       "bottom": null,
       "display": null,
       "flex": null,
       "flex_flow": null,
       "grid_area": null,
       "grid_auto_columns": null,
       "grid_auto_flow": null,
       "grid_auto_rows": null,
       "grid_column": null,
       "grid_gap": null,
       "grid_row": null,
       "grid_template_areas": null,
       "grid_template_columns": null,
       "grid_template_rows": null,
       "height": null,
       "justify_content": null,
       "justify_items": null,
       "left": null,
       "margin": null,
       "max_height": null,
       "max_width": null,
       "min_height": null,
       "min_width": null,
       "object_fit": null,
       "object_position": null,
       "order": null,
       "overflow": null,
       "overflow_x": null,
       "overflow_y": null,
       "padding": null,
       "right": null,
       "top": null,
       "visibility": null,
       "width": null
      }
     },
     "14f6c496ea344ceb9a41fa7ffff33979": {
      "model_module": "@jupyter-widgets/controls",
      "model_module_version": "1.5.0",
      "model_name": "DescriptionStyleModel",
      "state": {
       "_model_module": "@jupyter-widgets/controls",
       "_model_module_version": "1.5.0",
       "_model_name": "DescriptionStyleModel",
       "_view_count": null,
       "_view_module": "@jupyter-widgets/base",
       "_view_module_version": "1.2.0",
       "_view_name": "StyleView",
       "description_width": ""
      }
     },
     "1d1885d5b61944e9b9e87ef9bab85404": {
      "model_module": "@jupyter-widgets/controls",
      "model_module_version": "1.5.0",
      "model_name": "FloatProgressModel",
      "state": {
       "_dom_classes": [],
       "_model_module": "@jupyter-widgets/controls",
       "_model_module_version": "1.5.0",
       "_model_name": "FloatProgressModel",
       "_view_count": null,
       "_view_module": "@jupyter-widgets/controls",
       "_view_module_version": "1.5.0",
       "_view_name": "ProgressView",
       "bar_style": "success",
       "description": "",
       "description_tooltip": null,
       "layout": "IPY_MODEL_4c5c8d70284a4d71b838dbf38d60e05f",
       "max": 5069051.0,
       "min": 0.0,
       "orientation": "horizontal",
       "style": "IPY_MODEL_7233b10b361c4a0eafac9f696dc82831",
       "value": 5069051.0
      }
     },
     "35d233ef3b3040ce8191d4e3cf26556a": {
      "model_module": "@jupyter-widgets/controls",
      "model_module_version": "1.5.0",
      "model_name": "HTMLModel",
      "state": {
       "_dom_classes": [],
       "_model_module": "@jupyter-widgets/controls",
       "_model_module_version": "1.5.0",
       "_model_name": "HTMLModel",
       "_view_count": null,
       "_view_module": "@jupyter-widgets/controls",
       "_view_module_version": "1.5.0",
       "_view_name": "HTMLView",
       "description": "",
       "description_tooltip": null,
       "layout": "IPY_MODEL_aaac879baea34f93a9855c20cabe0157",
       "placeholder": "​",
       "style": "IPY_MODEL_14f6c496ea344ceb9a41fa7ffff33979",
       "value": "Downloading: 100%"
      }
     },
     "36f0abbca56542c2a6ca87be563f0e01": {
      "model_module": "@jupyter-widgets/base",
      "model_module_version": "1.2.0",
      "model_name": "LayoutModel",
      "state": {
       "_model_module": "@jupyter-widgets/base",
       "_model_module_version": "1.2.0",
       "_model_name": "LayoutModel",
       "_view_count": null,
       "_view_module": "@jupyter-widgets/base",
       "_view_module_version": "1.2.0",
       "_view_name": "LayoutView",
       "align_content": null,
       "align_items": null,
       "align_self": null,
       "border": null,
       "bottom": null,
       "display": null,
       "flex": null,
       "flex_flow": null,
       "grid_area": null,
       "grid_auto_columns": null,
       "grid_auto_flow": null,
       "grid_auto_rows": null,
       "grid_column": null,
       "grid_gap": null,
       "grid_row": null,
       "grid_template_areas": null,
       "grid_template_columns": null,
       "grid_template_rows": null,
       "height": null,
       "justify_content": null,
       "justify_items": null,
       "left": null,
       "margin": null,
       "max_height": null,
       "max_width": null,
       "min_height": null,
       "min_width": null,
       "object_fit": null,
       "object_position": null,
       "order": null,
       "overflow": null,
       "overflow_x": null,
       "overflow_y": null,
       "padding": null,
       "right": null,
       "top": null,
       "visibility": null,
       "width": null
      }
     },
     "42b4763b8ab5466fa612f5fdd4af416e": {
      "model_module": "@jupyter-widgets/base",
      "model_module_version": "1.2.0",
      "model_name": "LayoutModel",
      "state": {
       "_model_module": "@jupyter-widgets/base",
       "_model_module_version": "1.2.0",
       "_model_name": "LayoutModel",
       "_view_count": null,
       "_view_module": "@jupyter-widgets/base",
       "_view_module_version": "1.2.0",
       "_view_name": "LayoutView",
       "align_content": null,
       "align_items": null,
       "align_self": null,
       "border": null,
       "bottom": null,
       "display": null,
       "flex": null,
       "flex_flow": null,
       "grid_area": null,
       "grid_auto_columns": null,
       "grid_auto_flow": null,
       "grid_auto_rows": null,
       "grid_column": null,
       "grid_gap": null,
       "grid_row": null,
       "grid_template_areas": null,
       "grid_template_columns": null,
       "grid_template_rows": null,
       "height": null,
       "justify_content": null,
       "justify_items": null,
       "left": null,
       "margin": null,
       "max_height": null,
       "max_width": null,
       "min_height": null,
       "min_width": null,
       "object_fit": null,
       "object_position": null,
       "order": null,
       "overflow": null,
       "overflow_x": null,
       "overflow_y": null,
       "padding": null,
       "right": null,
       "top": null,
       "visibility": null,
       "width": null
      }
     },
     "4506b2ed11984c8c89db6c2e61c9eea2": {
      "model_module": "@jupyter-widgets/controls",
      "model_module_version": "1.5.0",
      "model_name": "HTMLModel",
      "state": {
       "_dom_classes": [],
       "_model_module": "@jupyter-widgets/controls",
       "_model_module_version": "1.5.0",
       "_model_name": "HTMLModel",
       "_view_count": null,
       "_view_module": "@jupyter-widgets/controls",
       "_view_module_version": "1.5.0",
       "_view_name": "HTMLView",
       "description": "",
       "description_tooltip": null,
       "layout": "IPY_MODEL_e96d7932ad0543c3a532204ad2de338e",
       "placeholder": "​",
       "style": "IPY_MODEL_7cb33ea6210740ffaff0d06370337557",
       "value": " 513/513 [00:00&lt;00:00, 15.3kB/s]"
      }
     },
     "47119deb448a4501859b79730067b4c2": {
      "model_module": "@jupyter-widgets/controls",
      "model_module_version": "1.5.0",
      "model_name": "DescriptionStyleModel",
      "state": {
       "_model_module": "@jupyter-widgets/controls",
       "_model_module_version": "1.5.0",
       "_model_name": "DescriptionStyleModel",
       "_view_count": null,
       "_view_module": "@jupyter-widgets/base",
       "_view_module_version": "1.2.0",
       "_view_name": "StyleView",
       "description_width": ""
      }
     },
     "48362bb69ab6430c8dbbb3f103b4d894": {
      "model_module": "@jupyter-widgets/controls",
      "model_module_version": "1.5.0",
      "model_name": "FloatProgressModel",
      "state": {
       "_dom_classes": [],
       "_model_module": "@jupyter-widgets/controls",
       "_model_module_version": "1.5.0",
       "_model_name": "FloatProgressModel",
       "_view_count": null,
       "_view_module": "@jupyter-widgets/controls",
       "_view_module_version": "1.5.0",
       "_view_name": "ProgressView",
       "bar_style": "success",
       "description": "",
       "description_tooltip": null,
       "layout": "IPY_MODEL_0a20fe114f5e4e21bd35ee0df5001038",
       "max": 3271420488.0,
       "min": 0.0,
       "orientation": "horizontal",
       "style": "IPY_MODEL_b69f548b59c74eafa46f8ffe219bee7e",
       "value": 3271420488.0
      }
     },
     "4c13f46424424b4780432bd1d44bb924": {
      "model_module": "@jupyter-widgets/controls",
      "model_module_version": "1.5.0",
      "model_name": "HBoxModel",
      "state": {
       "_dom_classes": [],
       "_model_module": "@jupyter-widgets/controls",
       "_model_module_version": "1.5.0",
       "_model_name": "HBoxModel",
       "_view_count": null,
       "_view_module": "@jupyter-widgets/controls",
       "_view_module_version": "1.5.0",
       "_view_name": "HBoxView",
       "box_style": "",
       "children": [
        "IPY_MODEL_cdd279cedb134440abac3a70b9f91360",
        "IPY_MODEL_48362bb69ab6430c8dbbb3f103b4d894",
        "IPY_MODEL_c301e14838ad4fd49b3da4801dbae97b"
       ],
       "layout": "IPY_MODEL_100a949460464c61b6305a4dd5e0dba7"
      }
     },
     "4c286716caa64c8bb84a3ed06f322845": {
      "model_module": "@jupyter-widgets/controls",
      "model_module_version": "1.5.0",
      "model_name": "HTMLModel",
      "state": {
       "_dom_classes": [],
       "_model_module": "@jupyter-widgets/controls",
       "_model_module_version": "1.5.0",
       "_model_name": "HTMLModel",
       "_view_count": null,
       "_view_module": "@jupyter-widgets/controls",
       "_view_module_version": "1.5.0",
       "_view_name": "HTMLView",
       "description": "",
       "description_tooltip": null,
       "layout": "IPY_MODEL_36f0abbca56542c2a6ca87be563f0e01",
       "placeholder": "​",
       "style": "IPY_MODEL_d97bf242684644c882ec4dccea4da0c0",
       "value": " 5.07M/5.07M [00:00&lt;00:00, 7.85MB/s]"
      }
     },
     "4c5c8d70284a4d71b838dbf38d60e05f": {
      "model_module": "@jupyter-widgets/base",
      "model_module_version": "1.2.0",
      "model_name": "LayoutModel",
      "state": {
       "_model_module": "@jupyter-widgets/base",
       "_model_module_version": "1.2.0",
       "_model_name": "LayoutModel",
       "_view_count": null,
       "_view_module": "@jupyter-widgets/base",
       "_view_module_version": "1.2.0",
       "_view_name": "LayoutView",
       "align_content": null,
       "align_items": null,
       "align_self": null,
       "border": null,
       "bottom": null,
       "display": null,
       "flex": null,
       "flex_flow": null,
       "grid_area": null,
       "grid_auto_columns": null,
       "grid_auto_flow": null,
       "grid_auto_rows": null,
       "grid_column": null,
       "grid_gap": null,
       "grid_row": null,
       "grid_template_areas": null,
       "grid_template_columns": null,
       "grid_template_rows": null,
       "height": null,
       "justify_content": null,
       "justify_items": null,
       "left": null,
       "margin": null,
       "max_height": null,
       "max_width": null,
       "min_height": null,
       "min_width": null,
       "object_fit": null,
       "object_position": null,
       "order": null,
       "overflow": null,
       "overflow_x": null,
       "overflow_y": null,
       "padding": null,
       "right": null,
       "top": null,
       "visibility": null,
       "width": null
      }
     },
     "69135e62f816475bb9e1b6b548d0ab92": {
      "model_module": "@jupyter-widgets/controls",
      "model_module_version": "1.5.0",
      "model_name": "ProgressStyleModel",
      "state": {
       "_model_module": "@jupyter-widgets/controls",
       "_model_module_version": "1.5.0",
       "_model_name": "ProgressStyleModel",
       "_view_count": null,
       "_view_module": "@jupyter-widgets/base",
       "_view_module_version": "1.2.0",
       "_view_name": "StyleView",
       "bar_color": null,
       "description_width": ""
      }
     },
     "6af6c1dd98f746719b596178a699a74b": {
      "model_module": "@jupyter-widgets/controls",
      "model_module_version": "1.5.0",
      "model_name": "HBoxModel",
      "state": {
       "_dom_classes": [],
       "_model_module": "@jupyter-widgets/controls",
       "_model_module_version": "1.5.0",
       "_model_name": "HBoxModel",
       "_view_count": null,
       "_view_module": "@jupyter-widgets/controls",
       "_view_module_version": "1.5.0",
       "_view_name": "HBoxView",
       "box_style": "",
       "children": [
        "IPY_MODEL_35d233ef3b3040ce8191d4e3cf26556a",
        "IPY_MODEL_a1172ba653fe40d880f10dbc0fad7ab5",
        "IPY_MODEL_4506b2ed11984c8c89db6c2e61c9eea2"
       ],
       "layout": "IPY_MODEL_a0efd5eff4214fb79697e85675c416d9"
      }
     },
     "7233b10b361c4a0eafac9f696dc82831": {
      "model_module": "@jupyter-widgets/controls",
      "model_module_version": "1.5.0",
      "model_name": "ProgressStyleModel",
      "state": {
       "_model_module": "@jupyter-widgets/controls",
       "_model_module_version": "1.5.0",
       "_model_name": "ProgressStyleModel",
       "_view_count": null,
       "_view_module": "@jupyter-widgets/base",
       "_view_module_version": "1.2.0",
       "_view_name": "StyleView",
       "bar_color": null,
       "description_width": ""
      }
     },
     "7cb33ea6210740ffaff0d06370337557": {
      "model_module": "@jupyter-widgets/controls",
      "model_module_version": "1.5.0",
      "model_name": "DescriptionStyleModel",
      "state": {
       "_model_module": "@jupyter-widgets/controls",
       "_model_module_version": "1.5.0",
       "_model_name": "DescriptionStyleModel",
       "_view_count": null,
       "_view_module": "@jupyter-widgets/base",
       "_view_module_version": "1.2.0",
       "_view_name": "StyleView",
       "description_width": ""
      }
     },
     "947eeb4338194b23a1549da0773b7b0d": {
      "model_module": "@jupyter-widgets/base",
      "model_module_version": "1.2.0",
      "model_name": "LayoutModel",
      "state": {
       "_model_module": "@jupyter-widgets/base",
       "_model_module_version": "1.2.0",
       "_model_name": "LayoutModel",
       "_view_count": null,
       "_view_module": "@jupyter-widgets/base",
       "_view_module_version": "1.2.0",
       "_view_name": "LayoutView",
       "align_content": null,
       "align_items": null,
       "align_self": null,
       "border": null,
       "bottom": null,
       "display": null,
       "flex": null,
       "flex_flow": null,
       "grid_area": null,
       "grid_auto_columns": null,
       "grid_auto_flow": null,
       "grid_auto_rows": null,
       "grid_column": null,
       "grid_gap": null,
       "grid_row": null,
       "grid_template_areas": null,
       "grid_template_columns": null,
       "grid_template_rows": null,
       "height": null,
       "justify_content": null,
       "justify_items": null,
       "left": null,
       "margin": null,
       "max_height": null,
       "max_width": null,
       "min_height": null,
       "min_width": null,
       "object_fit": null,
       "object_position": null,
       "order": null,
       "overflow": null,
       "overflow_x": null,
       "overflow_y": null,
       "padding": null,
       "right": null,
       "top": null,
       "visibility": null,
       "width": null
      }
     },
     "a0d45554176c4b4aaf82db4e53aca324": {
      "model_module": "@jupyter-widgets/controls",
      "model_module_version": "1.5.0",
      "model_name": "DescriptionStyleModel",
      "state": {
       "_model_module": "@jupyter-widgets/controls",
       "_model_module_version": "1.5.0",
       "_model_name": "DescriptionStyleModel",
       "_view_count": null,
       "_view_module": "@jupyter-widgets/base",
       "_view_module_version": "1.2.0",
       "_view_name": "StyleView",
       "description_width": ""
      }
     },
     "a0efd5eff4214fb79697e85675c416d9": {
      "model_module": "@jupyter-widgets/base",
      "model_module_version": "1.2.0",
      "model_name": "LayoutModel",
      "state": {
       "_model_module": "@jupyter-widgets/base",
       "_model_module_version": "1.2.0",
       "_model_name": "LayoutModel",
       "_view_count": null,
       "_view_module": "@jupyter-widgets/base",
       "_view_module_version": "1.2.0",
       "_view_name": "LayoutView",
       "align_content": null,
       "align_items": null,
       "align_self": null,
       "border": null,
       "bottom": null,
       "display": null,
       "flex": null,
       "flex_flow": null,
       "grid_area": null,
       "grid_auto_columns": null,
       "grid_auto_flow": null,
       "grid_auto_rows": null,
       "grid_column": null,
       "grid_gap": null,
       "grid_row": null,
       "grid_template_areas": null,
       "grid_template_columns": null,
       "grid_template_rows": null,
       "height": null,
       "justify_content": null,
       "justify_items": null,
       "left": null,
       "margin": null,
       "max_height": null,
       "max_width": null,
       "min_height": null,
       "min_width": null,
       "object_fit": null,
       "object_position": null,
       "order": null,
       "overflow": null,
       "overflow_x": null,
       "overflow_y": null,
       "padding": null,
       "right": null,
       "top": null,
       "visibility": null,
       "width": null
      }
     },
     "a1172ba653fe40d880f10dbc0fad7ab5": {
      "model_module": "@jupyter-widgets/controls",
      "model_module_version": "1.5.0",
      "model_name": "FloatProgressModel",
      "state": {
       "_dom_classes": [],
       "_model_module": "@jupyter-widgets/controls",
       "_model_module_version": "1.5.0",
       "_model_name": "FloatProgressModel",
       "_view_count": null,
       "_view_module": "@jupyter-widgets/controls",
       "_view_module_version": "1.5.0",
       "_view_name": "ProgressView",
       "bar_style": "success",
       "description": "",
       "description_tooltip": null,
       "layout": "IPY_MODEL_d58d4adf51004ef48f95d97634fbccd8",
       "max": 513.0,
       "min": 0.0,
       "orientation": "horizontal",
       "style": "IPY_MODEL_69135e62f816475bb9e1b6b548d0ab92",
       "value": 513.0
      }
     },
     "aaac879baea34f93a9855c20cabe0157": {
      "model_module": "@jupyter-widgets/base",
      "model_module_version": "1.2.0",
      "model_name": "LayoutModel",
      "state": {
       "_model_module": "@jupyter-widgets/base",
       "_model_module_version": "1.2.0",
       "_model_name": "LayoutModel",
       "_view_count": null,
       "_view_module": "@jupyter-widgets/base",
       "_view_module_version": "1.2.0",
       "_view_name": "LayoutView",
       "align_content": null,
       "align_items": null,
       "align_self": null,
       "border": null,
       "bottom": null,
       "display": null,
       "flex": null,
       "flex_flow": null,
       "grid_area": null,
       "grid_auto_columns": null,
       "grid_auto_flow": null,
       "grid_auto_rows": null,
       "grid_column": null,
       "grid_gap": null,
       "grid_row": null,
       "grid_template_areas": null,
       "grid_template_columns": null,
       "grid_template_rows": null,
       "height": null,
       "justify_content": null,
       "justify_items": null,
       "left": null,
       "margin": null,
       "max_height": null,
       "max_width": null,
       "min_height": null,
       "min_width": null,
       "object_fit": null,
       "object_position": null,
       "order": null,
       "overflow": null,
       "overflow_x": null,
       "overflow_y": null,
       "padding": null,
       "right": null,
       "top": null,
       "visibility": null,
       "width": null
      }
     },
     "b69f548b59c74eafa46f8ffe219bee7e": {
      "model_module": "@jupyter-widgets/controls",
      "model_module_version": "1.5.0",
      "model_name": "ProgressStyleModel",
      "state": {
       "_model_module": "@jupyter-widgets/controls",
       "_model_module_version": "1.5.0",
       "_model_name": "ProgressStyleModel",
       "_view_count": null,
       "_view_module": "@jupyter-widgets/base",
       "_view_module_version": "1.2.0",
       "_view_name": "StyleView",
       "bar_color": null,
       "description_width": ""
      }
     },
     "b7e9e36a2b4a4851839c56a0800ec4f0": {
      "model_module": "@jupyter-widgets/controls",
      "model_module_version": "1.5.0",
      "model_name": "HTMLModel",
      "state": {
       "_dom_classes": [],
       "_model_module": "@jupyter-widgets/controls",
       "_model_module_version": "1.5.0",
       "_model_name": "HTMLModel",
       "_view_count": null,
       "_view_module": "@jupyter-widgets/controls",
       "_view_module_version": "1.5.0",
       "_view_name": "HTMLView",
       "description": "",
       "description_tooltip": null,
       "layout": "IPY_MODEL_da9ce5f3ec974a6f86b8d0efcbbc7e34",
       "placeholder": "​",
       "style": "IPY_MODEL_47119deb448a4501859b79730067b4c2",
       "value": "Downloading: 100%"
      }
     },
     "c301e14838ad4fd49b3da4801dbae97b": {
      "model_module": "@jupyter-widgets/controls",
      "model_module_version": "1.5.0",
      "model_name": "HTMLModel",
      "state": {
       "_dom_classes": [],
       "_model_module": "@jupyter-widgets/controls",
       "_model_module_version": "1.5.0",
       "_model_name": "HTMLModel",
       "_view_count": null,
       "_view_module": "@jupyter-widgets/controls",
       "_view_module_version": "1.5.0",
       "_view_name": "HTMLView",
       "description": "",
       "description_tooltip": null,
       "layout": "IPY_MODEL_42b4763b8ab5466fa612f5fdd4af416e",
       "placeholder": "​",
       "style": "IPY_MODEL_a0d45554176c4b4aaf82db4e53aca324",
       "value": " 3.27G/3.27G [01:25&lt;00:00, 34.2MB/s]"
      }
     },
     "cdd279cedb134440abac3a70b9f91360": {
      "model_module": "@jupyter-widgets/controls",
      "model_module_version": "1.5.0",
      "model_name": "HTMLModel",
      "state": {
       "_dom_classes": [],
       "_model_module": "@jupyter-widgets/controls",
       "_model_module_version": "1.5.0",
       "_model_name": "HTMLModel",
       "_view_count": null,
       "_view_module": "@jupyter-widgets/controls",
       "_view_module_version": "1.5.0",
       "_view_name": "HTMLView",
       "description": "",
       "description_tooltip": null,
       "layout": "IPY_MODEL_f0c5f7d9f4dd4966b1cc30e78e29866e",
       "placeholder": "​",
       "style": "IPY_MODEL_0951ca4aa5c145d59a24fc4b72082eb2",
       "value": "Downloading: 100%"
      }
     },
     "d58d4adf51004ef48f95d97634fbccd8": {
      "model_module": "@jupyter-widgets/base",
      "model_module_version": "1.2.0",
      "model_name": "LayoutModel",
      "state": {
       "_model_module": "@jupyter-widgets/base",
       "_model_module_version": "1.2.0",
       "_model_name": "LayoutModel",
       "_view_count": null,
       "_view_module": "@jupyter-widgets/base",
       "_view_module_version": "1.2.0",
       "_view_name": "LayoutView",
       "align_content": null,
       "align_items": null,
       "align_self": null,
       "border": null,
       "bottom": null,
       "display": null,
       "flex": null,
       "flex_flow": null,
       "grid_area": null,
       "grid_auto_columns": null,
       "grid_auto_flow": null,
       "grid_auto_rows": null,
       "grid_column": null,
       "grid_gap": null,
       "grid_row": null,
       "grid_template_areas": null,
       "grid_template_columns": null,
       "grid_template_rows": null,
       "height": null,
       "justify_content": null,
       "justify_items": null,
       "left": null,
       "margin": null,
       "max_height": null,
       "max_width": null,
       "min_height": null,
       "min_width": null,
       "object_fit": null,
       "object_position": null,
       "order": null,
       "overflow": null,
       "overflow_x": null,
       "overflow_y": null,
       "padding": null,
       "right": null,
       "top": null,
       "visibility": null,
       "width": null
      }
     },
     "d97bf242684644c882ec4dccea4da0c0": {
      "model_module": "@jupyter-widgets/controls",
      "model_module_version": "1.5.0",
      "model_name": "DescriptionStyleModel",
      "state": {
       "_model_module": "@jupyter-widgets/controls",
       "_model_module_version": "1.5.0",
       "_model_name": "DescriptionStyleModel",
       "_view_count": null,
       "_view_module": "@jupyter-widgets/base",
       "_view_module_version": "1.2.0",
       "_view_name": "StyleView",
       "description_width": ""
      }
     },
     "da9ce5f3ec974a6f86b8d0efcbbc7e34": {
      "model_module": "@jupyter-widgets/base",
      "model_module_version": "1.2.0",
      "model_name": "LayoutModel",
      "state": {
       "_model_module": "@jupyter-widgets/base",
       "_model_module_version": "1.2.0",
       "_model_name": "LayoutModel",
       "_view_count": null,
       "_view_module": "@jupyter-widgets/base",
       "_view_module_version": "1.2.0",
       "_view_name": "LayoutView",
       "align_content": null,
       "align_items": null,
       "align_self": null,
       "border": null,
       "bottom": null,
       "display": null,
       "flex": null,
       "flex_flow": null,
       "grid_area": null,
       "grid_auto_columns": null,
       "grid_auto_flow": null,
       "grid_auto_rows": null,
       "grid_column": null,
       "grid_gap": null,
       "grid_row": null,
       "grid_template_areas": null,
       "grid_template_columns": null,
       "grid_template_rows": null,
       "height": null,
       "justify_content": null,
       "justify_items": null,
       "left": null,
       "margin": null,
       "max_height": null,
       "max_width": null,
       "min_height": null,
       "min_width": null,
       "object_fit": null,
       "object_position": null,
       "order": null,
       "overflow": null,
       "overflow_x": null,
       "overflow_y": null,
       "padding": null,
       "right": null,
       "top": null,
       "visibility": null,
       "width": null
      }
     },
     "e96d7932ad0543c3a532204ad2de338e": {
      "model_module": "@jupyter-widgets/base",
      "model_module_version": "1.2.0",
      "model_name": "LayoutModel",
      "state": {
       "_model_module": "@jupyter-widgets/base",
       "_model_module_version": "1.2.0",
       "_model_name": "LayoutModel",
       "_view_count": null,
       "_view_module": "@jupyter-widgets/base",
       "_view_module_version": "1.2.0",
       "_view_name": "LayoutView",
       "align_content": null,
       "align_items": null,
       "align_self": null,
       "border": null,
       "bottom": null,
       "display": null,
       "flex": null,
       "flex_flow": null,
       "grid_area": null,
       "grid_auto_columns": null,
       "grid_auto_flow": null,
       "grid_auto_rows": null,
       "grid_column": null,
       "grid_gap": null,
       "grid_row": null,
       "grid_template_areas": null,
       "grid_template_columns": null,
       "grid_template_rows": null,
       "height": null,
       "justify_content": null,
       "justify_items": null,
       "left": null,
       "margin": null,
       "max_height": null,
       "max_width": null,
       "min_height": null,
       "min_width": null,
       "object_fit": null,
       "object_position": null,
       "order": null,
       "overflow": null,
       "overflow_x": null,
       "overflow_y": null,
       "padding": null,
       "right": null,
       "top": null,
       "visibility": null,
       "width": null
      }
     },
     "f0c5f7d9f4dd4966b1cc30e78e29866e": {
      "model_module": "@jupyter-widgets/base",
      "model_module_version": "1.2.0",
      "model_name": "LayoutModel",
      "state": {
       "_model_module": "@jupyter-widgets/base",
       "_model_module_version": "1.2.0",
       "_model_name": "LayoutModel",
       "_view_count": null,
       "_view_module": "@jupyter-widgets/base",
       "_view_module_version": "1.2.0",
       "_view_name": "LayoutView",
       "align_content": null,
       "align_items": null,
       "align_self": null,
       "border": null,
       "bottom": null,
       "display": null,
       "flex": null,
       "flex_flow": null,
       "grid_area": null,
       "grid_auto_columns": null,
       "grid_auto_flow": null,
       "grid_auto_rows": null,
       "grid_column": null,
       "grid_gap": null,
       "grid_row": null,
       "grid_template_areas": null,
       "grid_template_columns": null,
       "grid_template_rows": null,
       "height": null,
       "justify_content": null,
       "justify_items": null,
       "left": null,
       "margin": null,
       "max_height": null,
       "max_width": null,
       "min_height": null,
       "min_width": null,
       "object_fit": null,
       "object_position": null,
       "order": null,
       "overflow": null,
       "overflow_x": null,
       "overflow_y": null,
       "padding": null,
       "right": null,
       "top": null,
       "visibility": null,
       "width": null
      }
     },
     "ffcd8dd21b744a708a835383f56c8610": {
      "model_module": "@jupyter-widgets/controls",
      "model_module_version": "1.5.0",
      "model_name": "HBoxModel",
      "state": {
       "_dom_classes": [],
       "_model_module": "@jupyter-widgets/controls",
       "_model_module_version": "1.5.0",
       "_model_name": "HBoxModel",
       "_view_count": null,
       "_view_module": "@jupyter-widgets/controls",
       "_view_module_version": "1.5.0",
       "_view_name": "HBoxView",
       "box_style": "",
       "children": [
        "IPY_MODEL_b7e9e36a2b4a4851839c56a0800ec4f0",
        "IPY_MODEL_1d1885d5b61944e9b9e87ef9bab85404",
        "IPY_MODEL_4c286716caa64c8bb84a3ed06f322845"
       ],
       "layout": "IPY_MODEL_947eeb4338194b23a1549da0773b7b0d"
      }
     }
    },
    "version_major": 2,
    "version_minor": 0
   }
  }
 },
 "nbformat": 4,
 "nbformat_minor": 4
}
